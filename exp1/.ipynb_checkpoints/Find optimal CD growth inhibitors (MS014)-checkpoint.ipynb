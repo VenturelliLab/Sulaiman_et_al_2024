{
 "cells": [
  {
   "cell_type": "code",
   "execution_count": 1,
   "id": "a637f20e",
   "metadata": {},
   "outputs": [],
   "source": [
    "import pandas as pd\n",
    "import numpy as np\n",
    "import matplotlib.pyplot as plt \n",
    "from scipy.stats import norm\n",
    "\n",
    "import os\n",
    "import time\n",
    "import itertools\n",
    "\n",
    "from glove.model import *"
   ]
  },
  {
   "cell_type": "markdown",
   "id": "e35f0bf8",
   "metadata": {},
   "source": [
    "# Combine data sets"
   ]
  },
  {
   "cell_type": "code",
   "execution_count": 2,
   "id": "bfe6b9d6",
   "metadata": {},
   "outputs": [],
   "source": [
    "# import data\n",
    "df = pd.read_csv(\"data/MS014_processed_mono.csv\")\n",
    "df.sort_values(by=[\"Treatments\", \"Time\"], inplace=True)"
   ]
  },
  {
   "cell_type": "markdown",
   "id": "8f66f683",
   "metadata": {},
   "source": [
    "# fit gLV models"
   ]
  },
  {
   "cell_type": "code",
   "execution_count": 3,
   "id": "9af71ae6",
   "metadata": {
    "scrolled": true
   },
   "outputs": [
    {
     "name": "stderr",
     "output_type": "stream",
     "text": [
      "No GPU/TPU found, falling back to CPU. (Set TF_CPP_MIN_LOG_LEVEL=0 and rerun for more info.)\n"
     ]
    },
    {
     "name": "stdout",
     "output_type": "stream",
     "text": [
      "Total samples: 70, Initial regularization: 1.00e-03\n",
      "Loss: 9.122, Residuals: -0.399\n",
      "Loss: 4.919, Residuals: 0.148\n",
      "Loss: 4.083, Residuals: 0.062\n",
      "Loss: 2.736, Residuals: 0.054\n",
      "Loss: 2.139, Residuals: 0.038\n",
      "Loss: 1.842, Residuals: 0.009\n",
      "Loss: 1.778, Residuals: 0.008\n",
      "Loss: 1.719, Residuals: 0.029\n",
      "Loss: 1.619, Residuals: 0.017\n",
      "Loss: 1.488, Residuals: 0.006\n",
      "Loss: 1.485, Residuals: 0.010\n",
      "Loss: 1.459, Residuals: 0.006\n",
      "Loss: 1.447, Residuals: 0.007\n",
      "Loss: 1.427, Residuals: 0.002\n",
      "Loss: 1.398, Residuals: -0.007\n",
      "Loss: 1.396, Residuals: -0.005\n",
      "Loss: 1.393, Residuals: -0.005\n",
      "Loss: 1.388, Residuals: -0.007\n",
      "Loss: 1.379, Residuals: -0.011\n",
      "Loss: 1.379, Residuals: -0.008\n",
      "Loss: 1.375, Residuals: -0.011\n",
      "Loss: 1.374, Residuals: -0.012\n",
      "Loss: 1.367, Residuals: -0.015\n",
      "Loss: 1.367, Residuals: -0.015\n",
      "Loss: 1.365, Residuals: -0.016\n",
      "Loss: 1.365, Residuals: -0.015\n",
      "Loss: 1.361, Residuals: -0.018\n",
      "Loss: 1.361, Residuals: -0.017\n",
      "Loss: 1.360, Residuals: -0.017\n",
      "Loss: 1.359, Residuals: -0.017\n",
      "Loss: 1.358, Residuals: -0.018\n",
      "Loss: 1.358, Residuals: -0.018\n",
      "Loss: 1.357, Residuals: -0.018\n",
      "Loss: 1.356, Residuals: -0.019\n",
      "Loss: 1.355, Residuals: -0.019\n",
      "Loss: 1.355, Residuals: -0.019\n",
      "Loss: 1.355, Residuals: -0.019\n",
      "Loss: 1.355, Residuals: -0.019\n",
      "Loss: 1.355, Residuals: -0.019\n",
      "Loss: 1.355, Residuals: -0.019\n",
      "Loss: 1.355, Residuals: -0.019\n",
      "Loss: 1.355, Residuals: -0.019\n",
      "Loss: 1.355, Residuals: -0.019\n",
      "Loss: 1.355, Residuals: -0.019\n",
      "Loss: 1.355, Residuals: -0.019\n",
      "Loss: 1.355, Residuals: -0.019\n",
      "Loss: 1.355, Residuals: -0.019\n",
      "Loss: 1.355, Residuals: -0.019\n",
      "Loss: 1.355, Residuals: -0.019\n",
      "Loss: 1.355, Residuals: -0.019\n",
      "Loss: 1.355, Residuals: -0.019\n",
      "Loss: 1.355, Residuals: -0.019\n",
      "Loss: 1.355, Residuals: -0.019\n",
      "Loss: 1.355, Residuals: -0.019\n",
      "Loss: 1.355, Residuals: -0.019\n",
      "Loss: 1.355, Residuals: -0.019\n",
      "Warning: Desired error not necessarily achieved due to precision loss.\n",
      "Evidence -46.138\n",
      "Updating hyper-parameters...\n",
      "Total samples: 70, Updated regularization: 6.84e-01\n",
      "Loss: 31.718, Residuals: -0.016\n",
      "Loss: 30.234, Residuals: 0.001\n",
      "Loss: 30.105, Residuals: 0.009\n",
      "Loss: 29.866, Residuals: 0.010\n",
      "Loss: 29.480, Residuals: 0.010\n",
      "Loss: 29.467, Residuals: 0.006\n",
      "Optimization terminated successfully.\n",
      "Evidence 673.267\n",
      "Updating hyper-parameters...\n",
      "Total samples: 70, Updated regularization: 9.16e-01\n",
      "Loss: 124.004, Residuals: 0.001\n",
      "Loss: 123.243, Residuals: 0.006\n",
      "Loss: 122.877, Residuals: 0.002\n",
      "Loss: 122.355, Residuals: -0.000\n",
      "Loss: 122.314, Residuals: 0.001\n",
      "Loss: 122.238, Residuals: 0.001\n",
      "Loss: 122.111, Residuals: 0.000\n",
      "Loss: 122.106, Residuals: -0.000\n",
      "Optimization terminated successfully.\n",
      "Evidence 1055.653\n",
      "Updating hyper-parameters...\n",
      "Total samples: 70, Updated regularization: 1.30e+00\n",
      "Loss: 229.877, Residuals: -0.002\n",
      "Loss: 229.111, Residuals: -0.003\n",
      "Loss: 228.796, Residuals: -0.003\n",
      "Loss: 228.308, Residuals: -0.004\n",
      "Loss: 228.251, Residuals: -0.005\n",
      "Loss: 227.734, Residuals: -0.005\n",
      "Loss: 227.723, Residuals: -0.005\n",
      "Optimization terminated successfully.\n",
      "Evidence 1155.136\n",
      "Updating hyper-parameters...\n",
      "Total samples: 70, Updated regularization: 1.54e+00\n",
      "Loss: 265.753, Residuals: -0.004\n",
      "Loss: 265.204, Residuals: -0.008\n",
      "Loss: 264.640, Residuals: -0.006\n",
      "Loss: 263.755, Residuals: -0.008\n",
      "Loss: 263.733, Residuals: -0.008\n",
      "Optimization terminated successfully.\n",
      "Evidence 1168.607\n",
      "Updating hyper-parameters...\n",
      "Total samples: 70, Updated regularization: 1.75e+00\n",
      "Loss: 272.542, Residuals: -0.007\n",
      "Loss: 272.286, Residuals: -0.007\n",
      "Loss: 271.843, Residuals: -0.008\n",
      "Loss: 271.797, Residuals: -0.008\n",
      "Loss: 271.442, Residuals: -0.008\n",
      "Loss: 271.437, Residuals: -0.008\n",
      "Optimization terminated successfully.\n",
      "Evidence 1172.591\n",
      "Updating hyper-parameters...\n",
      "Total samples: 70, Updated regularization: 1.95e+00\n",
      "Loss: 274.148, Residuals: -0.007\n",
      "Loss: 274.024, Residuals: -0.008\n",
      "Loss: 273.809, Residuals: -0.008\n",
      "Loss: 273.584, Residuals: -0.009\n",
      "Loss: 273.577, Residuals: -0.008\n",
      "Optimization terminated successfully.\n",
      "Evidence 1174.526\n",
      "Updating hyper-parameters...\n",
      "Total samples: 70, Updated regularization: 2.10e+00\n",
      "Loss: 274.557, Residuals: -0.007\n",
      "Loss: 274.454, Residuals: -0.008\n",
      "Loss: 274.434, Residuals: -0.008\n",
      "Loss: 274.400, Residuals: -0.008\n",
      "Loss: 274.358, Residuals: -0.008\n",
      "Loss: 274.356, Residuals: -0.008\n",
      "Optimization terminated successfully.\n",
      "Evidence 1175.772\n",
      "Updating hyper-parameters...\n",
      "Total samples: 70, Updated regularization: 2.18e+00\n",
      "Loss: 274.977, Residuals: -0.008\n",
      "Optimization terminated successfully.\n",
      "Evidence 1176.417\n",
      "Pass count  1\n",
      "Elapsed time 40.74s\n"
     ]
    }
   ],
   "source": [
    "# determine species names \n",
    "species = df.columns.values[2:]\n",
    "\n",
    "# instantiate gLV fit \n",
    "model = gLV(species, df) \n",
    "\n",
    "# fit to data \n",
    "t0 = time.time()\n",
    "model.fit()\n",
    "print(\"Elapsed time {:.2f}s\".format(time.time()-t0))"
   ]
  },
  {
   "cell_type": "code",
   "execution_count": 4,
   "id": "f0737fb5",
   "metadata": {},
   "outputs": [
    {
     "data": {
      "text/plain": [
       "array(['CA', 'BT', 'BU', 'CS', 'CD', 'DP', 'CH', 'BV'], dtype=object)"
      ]
     },
     "execution_count": 4,
     "metadata": {},
     "output_type": "execute_result"
    }
   ],
   "source": [
    "sp_names = df.columns.values[2:]\n",
    "cd_ind = list(sp_names).index(\"CD\")\n",
    "sp_names"
   ]
  },
  {
   "cell_type": "code",
   "execution_count": 5,
   "id": "759c9a08",
   "metadata": {},
   "outputs": [],
   "source": [
    "# define design space to search for CD inhibiting communities\n",
    "# create matrix of all possible communities\n",
    "numspecies = len(sp_names) \n",
    "X = np.array([np.reshape(np.array(i), (1, numspecies)) for i in itertools.product([0, 1], repeat = numspecies)])\n",
    "X = np.squeeze(X, 1)\n",
    "\n",
    "# only keep combinations that have CD \n",
    "CD_inds = X[:, cd_ind] > 0\n",
    "X = X[CD_inds]\n",
    "\n",
    "# normalize so that sum of OD is .01\n",
    "X = (.01 * X.T / np.sum(X, 1)).T\n",
    "\n",
    "# define evaluation times\n",
    "t_eval = np.linspace(0, 24)"
   ]
  },
  {
   "cell_type": "code",
   "execution_count": 6,
   "id": "0d3f8fae",
   "metadata": {},
   "outputs": [],
   "source": [
    "# define objective to compute 24hr CD given a community\n",
    "def objective(comm, t_eval):\n",
    "    # predict CD in each comm\n",
    "    comm_pred, comm_stdv = model.predict(comm, t_eval)\n",
    "    cd_pred = comm_pred[:, cd_ind]\n",
    "        \n",
    "    # objective is to minimize CD growth\n",
    "    return cd_pred[-1]"
   ]
  },
  {
   "cell_type": "code",
   "execution_count": 7,
   "id": "49a146ad",
   "metadata": {},
   "outputs": [],
   "source": [
    "# compute objectives for every initial condition \n",
    "objectives = np.array([objective(x, t_eval) for x in X])"
   ]
  },
  {
   "cell_type": "code",
   "execution_count": 8,
   "id": "0c01caff",
   "metadata": {},
   "outputs": [],
   "source": [
    "def comm_name(present_species):\n",
    "    c_name = \"\"\n",
    "    for p_s in present_species:\n",
    "        if p_s != 'CD':\n",
    "            c_name += p_s + \"-\"\n",
    "    return c_name[:-1]"
   ]
  },
  {
   "cell_type": "code",
   "execution_count": 9,
   "id": "8e10bb0a",
   "metadata": {
    "scrolled": true
   },
   "outputs": [
    {
     "data": {
      "image/png": "[encoded data removed]",
      "text/plain": [
       "<Figure size 640x480 with 1 Axes>"
      ]
     },
     "metadata": {},
     "output_type": "display_data"
    }
   ],
   "source": [
    "# compute strain specific objectives\n",
    "mono_pred, mono_stdv = model.predict(X[0], t_eval)\n",
    "strain_pred, strain_stdv = model.predict(X[np.argmin(objectives)], t_eval)\n",
    "\n",
    "plt.plot(t_eval, mono_pred[:, cd_ind], label=f\"CD in monoculture\", color='k', linestyle='-')\n",
    "#plt.fill_between(t_eval, full_pred[:,4]-full_stdv[:,4], full_pred[:,4]+full_stdv[:,4], color='k', alpha=0.2)\n",
    "\n",
    "c_name = comm_name(sp_names[X[np.argmax(objectives)] > 0])\n",
    "plt.plot(t_eval, strain_pred[:, cd_ind], label=f\"CD in optimized community:\\n{c_name}\", color='k', linestyle='--')\n",
    "#plt.fill_between(t_eval, strain_pred[:,4]-strain_stdv[:,4], strain_pred[:,4]+strain_stdv[:,4], color='k', alpha=0.2)\n",
    "\n",
    "#plt.plot(t_eval, obj_pred[:,4], label=f\"Robust\", color='k', linestyle='-')\n",
    "#plt.fill_between(t_eval, obj_pred[:,4]-obj_stdv[:,4], obj_pred[:,4]+obj_stdv[:,4], color='k', alpha=0.2)\n",
    "\n",
    "plt.legend()\n",
    "# plt.ylim([0, .3])\n",
    "\n",
    "plt.xlabel(\"Time (hr)\", fontsize=16)\n",
    "plt.ylabel(\"Abundance (OD)\", fontsize=16)\n",
    "    \n",
    "plt.tight_layout()\n",
    "# plt.savefig(\"cd_inhibition.pdf\", dpi=300)\n",
    "plt.show()"
   ]
  },
  {
   "cell_type": "code",
   "execution_count": 10,
   "id": "1daf828a",
   "metadata": {},
   "outputs": [],
   "source": [
    "# highlight \n",
    "# C1: CH-CS-DP + CD"
   ]
  },
  {
   "cell_type": "code",
   "execution_count": 11,
   "id": "1c9f7f65",
   "metadata": {},
   "outputs": [
    {
     "data": {
      "text/plain": [
       "array(['CA', 'BT', 'BU', 'CS', 'CD', 'DP', 'CH', 'BV'], dtype=object)"
      ]
     },
     "execution_count": 11,
     "metadata": {},
     "output_type": "execute_result"
    }
   ],
   "source": [
    "sp_names"
   ]
  },
  {
   "cell_type": "code",
   "execution_count": 12,
   "id": "0322ccaf",
   "metadata": {},
   "outputs": [
    {
     "data": {
      "text/plain": [
       "array(['CS', 'CD', 'DP', 'CH'], dtype=object)"
      ]
     },
     "execution_count": 12,
     "metadata": {},
     "output_type": "execute_result"
    }
   ],
   "source": [
    "comm1_inds = [3, 4, 5, 6]\n",
    "species[comm1_inds]"
   ]
  },
  {
   "cell_type": "code",
   "execution_count": 13,
   "id": "88fb8a0f",
   "metadata": {},
   "outputs": [],
   "source": [
    "comm1_ind = np.argmax(np.sum(X[:, comm1_inds] > 0, 1))"
   ]
  },
  {
   "cell_type": "code",
   "execution_count": 14,
   "id": "408633da",
   "metadata": {},
   "outputs": [
    {
     "data": {
      "text/plain": [
       "0.31838003"
      ]
     },
     "execution_count": 14,
     "metadata": {},
     "output_type": "execute_result"
    }
   ],
   "source": [
    "objectives[comm1_ind]"
   ]
  },
  {
   "cell_type": "code",
   "execution_count": 15,
   "id": "fe8f6793",
   "metadata": {},
   "outputs": [
    {
     "data": {
      "text/plain": [
       "array(['CA', 'BU', 'CD', 'DP'], dtype=object)"
      ]
     },
     "execution_count": 15,
     "metadata": {},
     "output_type": "execute_result"
    }
   ],
   "source": [
    "# C2: BU-CA-DP + CD\n",
    "comm2_inds = [0, 2, 4, 5]\n",
    "species[comm2_inds]"
   ]
  },
  {
   "cell_type": "code",
   "execution_count": 16,
   "id": "fc0b5455",
   "metadata": {},
   "outputs": [],
   "source": [
    "comm2_ind = np.argmax(np.sum(X[:, comm2_inds] > 0, 1))"
   ]
  },
  {
   "cell_type": "code",
   "execution_count": 17,
   "id": "7c09835a",
   "metadata": {},
   "outputs": [
    {
     "data": {
      "text/plain": [
       "0.250082"
      ]
     },
     "execution_count": 17,
     "metadata": {},
     "output_type": "execute_result"
    }
   ],
   "source": [
    "objectives[comm2_ind]"
   ]
  },
  {
   "cell_type": "code",
   "execution_count": 18,
   "id": "6870c431",
   "metadata": {},
   "outputs": [],
   "source": [
    "comm_names = [\"CD+\"+comm_name(sp_names[x0 > 0]) for x0 in X]\n",
    "richness = np.sum(X > 0, 1)\n",
    "df_opt = pd.DataFrame()\n",
    "df_opt[\"Comms\"] = comm_names\n",
    "df_opt[\"Richness\"] = richness\n",
    "df_opt[\"CD OD\"] = objectives\n",
    "df_opt.to_csv(\"opt/df_gLV_MS014_growth.csv\", index=False)"
   ]
  },
  {
   "cell_type": "code",
   "execution_count": 19,
   "id": "0ff8b682",
   "metadata": {},
   "outputs": [
    {
     "data": {
      "image/png": "[encoded data removed]",
      "text/plain": [
       "<Figure size 640x480 with 1 Axes>"
      ]
     },
     "metadata": {},
     "output_type": "display_data"
    }
   ],
   "source": [
    "plt.scatter(np.sum(X > 0, 1), objectives)\n",
    "plt.scatter(np.sum(X[comm1_ind]>0), objectives[comm1_ind], edgecolor='k', s=70, label=\"CH,CS,DP\")\n",
    "plt.scatter(np.sum(X[comm2_ind]>0), objectives[comm2_ind], edgecolor='k', s=70, label=\"BU,CA,DP\")\n",
    "\n",
    "plt.legend(loc='center left')\n",
    "plt.xlabel(\"Number of species in community\")\n",
    "plt.ylabel(\"Predicted 24hr CD OD\")\n",
    "# plt.savefig(\"figures/CDreduction_vs_richness_DSM.pdf\", dpi=300)\n",
    "plt.show()"
   ]
  }
 ],
 "metadata": {
  "kernelspec": {
   "display_name": "Python 3 (ipykernel)",
   "language": "python",
   "name": "python3"
  },
  "language_info": {
   "codemirror_mode": {
    "name": "ipython",
    "version": 3
   },
   "file_extension": ".py",
   "mimetype": "text/x-python",
   "name": "python",
   "nbconvert_exporter": "python",
   "pygments_lexer": "ipython3",
   "version": "3.11.3"
  }
 },
 "nbformat": 4,
 "nbformat_minor": 5
}
