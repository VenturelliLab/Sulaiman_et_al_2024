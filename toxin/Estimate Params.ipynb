{
 "cells": [
  {
   "cell_type": "code",
   "execution_count": 1,
   "id": "a637f20e",
   "metadata": {},
   "outputs": [],
   "source": [
    "import pandas as pd\n",
    "import numpy as np\n",
    "import matplotlib.pyplot as plt \n",
    "from scipy.stats import norm\n",
    "\n",
    "import os\n",
    "import time\n",
    "import itertools\n",
    "\n",
    "from glove.model import *"
   ]
  },
  {
   "cell_type": "code",
   "execution_count": 2,
   "id": "06280f25",
   "metadata": {},
   "outputs": [],
   "source": [
    "# import file names\n",
    "files = os.listdir(\"data/\")\n",
    "strains = [\"DSM\", \"MS008\", \"MS014\", \"Strain292\", \"Strain296\"]\n",
    "\n",
    "# define names of species\n",
    "species = ['BA', 'BO', 'BU', 'PJ', 'ER', 'AC', \n",
    "           'CC','CD', 'DP', 'EL', 'BY', 'CG', \n",
    "           'CH', 'BL', 'BF', 'BT', 'BV', 'DL',\n",
    "           'BH', 'RI', 'BP', 'PC', 'DF', 'CA', \n",
    "           'BC', 'CS']"
   ]
  },
  {
   "cell_type": "code",
   "execution_count": 3,
   "id": "6c93abbf",
   "metadata": {},
   "outputs": [
    {
     "data": {
      "text/plain": [
       "['DSM_processed_withmono.csv',\n",
       " 'MS008_processed_withmono.csv',\n",
       " 'MS014_processed_withmono.csv',\n",
       " 'Strain292_processed_withmono.csv',\n",
       " 'Strain296_processed_withmono.csv',\n",
       " 'Universal_processed_withmono.csv']"
      ]
     },
     "execution_count": 3,
     "metadata": {},
     "output_type": "execute_result"
    }
   ],
   "source": [
    "files"
   ]
  },
  {
   "cell_type": "markdown",
   "id": "8f66f683",
   "metadata": {},
   "source": [
    "# fit gLV models"
   ]
  },
  {
   "cell_type": "code",
   "execution_count": null,
   "id": "9af71ae6",
   "metadata": {
    "scrolled": true
   },
   "outputs": [
    {
     "name": "stderr",
     "output_type": "stream",
     "text": [
      "No GPU/TPU found, falling back to CPU. (Set TF_CPP_MIN_LOG_LEVEL=0 and rerun for more info.)\n"
     ]
    },
    {
     "name": "stdout",
     "output_type": "stream",
     "text": [
      "Total samples: 99, Initial regularization: 1.00e-03\n",
      "Loss: 91.057, Residuals: -0.922\n",
      "Loss: 72.280, Residuals: -0.948\n",
      "Loss: 64.886, Residuals: -1.413\n",
      "Loss: 63.090, Residuals: -1.464\n",
      "Loss: 60.330, Residuals: -1.476\n",
      "Loss: 59.670, Residuals: -1.371\n",
      "Loss: 58.496, Residuals: -1.399\n",
      "Loss: 58.273, Residuals: -1.373\n",
      "Loss: 57.871, Residuals: -1.385\n",
      "Loss: 57.250, Residuals: -1.396\n",
      "Loss: 57.222, Residuals: -1.393\n",
      "Loss: 57.003, Residuals: -1.391\n",
      "Loss: 56.965, Residuals: -1.366\n",
      "Loss: 56.892, Residuals: -1.371\n",
      "Loss: 56.761, Residuals: -1.380\n",
      "Loss: 56.757, Residuals: -1.382\n",
      "Loss: 56.612, Residuals: -1.392\n",
      "Loss: 56.609, Residuals: -1.386\n",
      "Loss: 56.495, Residuals: -1.394\n",
      "Loss: 56.494, Residuals: -1.394\n",
      "Optimization terminated successfully.\n",
      "Evidence -167.567\n",
      "Updating hyper-parameters...\n",
      "Total samples: 99, Updated regularization: 1.02e+00\n",
      "Loss: 362.669, Residuals: -1.395\n",
      "Optimization terminated successfully.\n",
      "Evidence 3652.242\n",
      "Updating hyper-parameters...\n",
      "Total samples: 99, Updated regularization: 1.06e+00\n",
      "Loss: 996.164, Residuals: -1.351\n",
      "Loss: 987.197, Residuals: -1.336\n",
      "Loss: 984.648, Residuals: -1.336\n",
      "Optimization terminated successfully.\n",
      "Evidence 5041.618\n",
      "Updating hyper-parameters...\n",
      "Total samples: 99, Updated regularization: 1.09e+00\n",
      "Loss: 1245.337, Residuals: -1.334\n",
      "Optimization terminated successfully.\n",
      "Evidence 5149.495\n",
      "Updating hyper-parameters...\n"
     ]
    }
   ],
   "source": [
    "exp_names = []\n",
    "for strain in strains[1:]:\n",
    "    # import data\n",
    "    df_universal = pd.read_csv(\"data/Universal_processed_withmono.csv\")\n",
    "    df_strain = pd.concat([pd.read_csv(f\"data/{fname}\") for fname in files if strain in fname])\n",
    "    df = pd.concat((df_universal, df_strain))\n",
    "    \n",
    "    # rename treatments with replicate num\n",
    "    treatment_names = [t+\"_\"+str(rep) for t, rep in zip(df[\"Treatment\"].values, df[\"Replicate\"].values)]    \n",
    "    df.sort_values(by=[\"Treatment\", \"Time\"], inplace=True)\n",
    "    df.rename(columns={\"Treatment\":\"Treatments\"}, inplace=True)\n",
    "\n",
    "    # instantiate gLV fit \n",
    "    model = gLV(species, df)\n",
    "\n",
    "    # fit to data \n",
    "    model.fit()\n",
    "    \n",
    "    # list of parameter names \n",
    "    param_names = []\n",
    "    for s1 in species:\n",
    "        for s2 in species:\n",
    "            param_names += [s1+\"*\"+s2]\n",
    "    param_names = list(species) + param_names\n",
    "    \n",
    "    # plot parameter distribution\n",
    "    n_species = len(species)\n",
    "    Avec = model.params[n_species:]\n",
    "    Aij_std = np.sqrt(np.diag(model.Ainv))[n_species:]\n",
    "\n",
    "    '''plt.figure(figsize=(18,18))\n",
    "    # set counter for parameter std. \n",
    "    k = 0\n",
    "\n",
    "    for i in range(n_species):\n",
    "        for j in range(n_species):\n",
    "            plt.subplot(n_species, n_species, k+1)\n",
    "            a = np.linspace(Avec[k]-np.std(Avec), Avec[k]+np.std(Avec))\n",
    "            plt.plot(a, norm.pdf(a,Avec[k],Aij_std[k]))\n",
    "            plt.axvline(x=0, c='k', alpha=.5)\n",
    "            k += 1\n",
    "            if j == 0:\n",
    "                plt.ylabel(species[i], fontsize=18)\n",
    "            if i == n_species-1:\n",
    "                plt.xlabel(species[j], fontsize=18)\n",
    "            #plt.xlim([-2,2])\n",
    "\n",
    "    plt.suptitle(strain, fontsize=24)\n",
    "    plt.tight_layout(rect=[0, 0.03, 1, 0.95])\n",
    "    plt.savefig(\"figures/\"+strain+\".pdf\")\n",
    "    plt.close()'''\n",
    "    \n",
    "    # compute Wald test for each parameter\n",
    "    std_errors = np.sqrt(np.diag(model.Ainv))\n",
    "    walds = model.params/std_errors\n",
    "    wald_p_vals = 2*norm.cdf(-np.abs(walds))\n",
    "\n",
    "    # save to df \n",
    "    df = pd.DataFrame()\n",
    "    df[\"Param name\"] = param_names\n",
    "    df[\"Param value\"] = model.params\n",
    "    df[\"Param stdv\"]  = np.sqrt(np.diag(model.Ainv))\n",
    "    df[\"Param p-value\"] = wald_p_vals\n",
    "    df = pd.concat([df, pd.DataFrame(columns=param_names, data=model.Ainv)], axis=1)\n",
    "    df.to_csv(\"params/\"+strain+\".csv\", index=False)"
   ]
  },
  {
   "cell_type": "code",
   "execution_count": null,
   "id": "e4fcc15c",
   "metadata": {},
   "outputs": [],
   "source": [
    "df"
   ]
  }
 ],
 "metadata": {
  "kernelspec": {
   "display_name": "Python 3 (ipykernel)",
   "language": "python",
   "name": "python3"
  },
  "language_info": {
   "codemirror_mode": {
    "name": "ipython",
    "version": 3
   },
   "file_extension": ".py",
   "mimetype": "text/x-python",
   "name": "python",
   "nbconvert_exporter": "python",
   "pygments_lexer": "ipython3",
   "version": "3.11.3"
  }
 },
 "nbformat": 4,
 "nbformat_minor": 5
}
