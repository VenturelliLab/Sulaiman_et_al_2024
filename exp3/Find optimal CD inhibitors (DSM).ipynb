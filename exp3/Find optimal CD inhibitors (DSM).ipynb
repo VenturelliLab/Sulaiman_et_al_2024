{
 "cells": [
  {
   "cell_type": "code",
   "execution_count": 1,
   "id": "a637f20e",
   "metadata": {},
   "outputs": [
    {
     "name": "stderr",
     "output_type": "stream",
     "text": [
      "Matplotlib created a temporary config/cache directory at /tmp/matplotlib-uugman7g because the default path (/home/jaron/.cache/matplotlib) is not a writable directory; it is highly recommended to set the MPLCONFIGDIR environment variable to a writable directory, in particular to speed up the import of Matplotlib and to better support multiprocessing.\n",
      "<frozen importlib._bootstrap>:228: RuntimeWarning: scipy._lib.messagestream.MessageStream size changed, may indicate binary incompatibility. Expected 56 from C header, got 64 from PyObject\n"
     ]
    }
   ],
   "source": [
    "import pandas as pd\n",
    "import numpy as np\n",
    "import matplotlib.pyplot as plt \n",
    "from scipy.stats import norm\n",
    "\n",
    "import os\n",
    "import time\n",
    "import itertools\n",
    "\n",
    "from glove.model import *"
   ]
  },
  {
   "cell_type": "markdown",
   "id": "e35f0bf8",
   "metadata": {},
   "source": [
    "# Combine data sets"
   ]
  },
  {
   "cell_type": "code",
   "execution_count": 2,
   "id": "bfe6b9d6",
   "metadata": {},
   "outputs": [],
   "source": [
    "# import data\n",
    "df19 = pd.read_csv(\"data/EXP0019_DSM_processed.csv\")\n",
    "df24 = pd.read_csv(\"data/DSM.csv\")\n",
    "dfun = pd.read_csv(\"data/Universal.csv\")\n",
    "\n",
    "# combine and sort\n",
    "df = pd.concat((df19, df24, dfun))\n",
    "df.sort_values(by=[\"Treatments\", \"Time\"], inplace=True)"
   ]
  },
  {
   "cell_type": "markdown",
   "id": "8f66f683",
   "metadata": {},
   "source": [
    "# fit gLV models"
   ]
  },
  {
   "cell_type": "code",
   "execution_count": 3,
   "id": "9af71ae6",
   "metadata": {
    "scrolled": true
   },
   "outputs": [
    {
     "name": "stdout",
     "output_type": "stream",
     "text": [
      "Total samples: 90, Initial regularization: 0.00e+00\n",
      "Loss: 22.147, Residuals: -0.108\n",
      "Loss: 13.910, Residuals: -0.018\n",
      "Loss: 11.142, Residuals: -0.015\n",
      "Loss: 8.350, Residuals: 0.018\n",
      "Loss: 7.660, Residuals: 0.053\n",
      "Loss: 6.801, Residuals: 0.039\n",
      "Loss: 6.726, Residuals: 0.036\n",
      "Loss: 6.600, Residuals: 0.026\n",
      "Loss: 6.423, Residuals: 0.007\n",
      "Loss: 6.396, Residuals: 0.013\n",
      "Loss: 6.350, Residuals: 0.006\n",
      "Loss: 6.278, Residuals: -0.006\n",
      "Loss: 6.267, Residuals: 0.002\n",
      "Loss: 6.247, Residuals: -0.001\n",
      "Loss: 6.211, Residuals: -0.006\n",
      "Loss: 6.199, Residuals: 0.001\n",
      "Loss: 6.177, Residuals: -0.003\n",
      "Loss: 6.168, Residuals: -0.001\n",
      "Loss: 6.151, Residuals: -0.004\n",
      "Loss: 6.126, Residuals: -0.013\n",
      "Loss: 6.126, Residuals: -0.012\n",
      "Loss: 6.121, Residuals: -0.014\n",
      "Loss: 6.118, Residuals: -0.014\n",
      "Loss: 6.113, Residuals: -0.017\n",
      "Loss: 6.112, Residuals: -0.016\n",
      "Loss: 6.109, Residuals: -0.018\n",
      "Loss: 6.105, Residuals: -0.022\n",
      "Loss: 6.105, Residuals: -0.021\n",
      "Loss: 6.105, Residuals: -0.022\n",
      "Loss: 6.104, Residuals: -0.023\n",
      "Loss: 6.104, Residuals: -0.023\n",
      "Loss: 6.103, Residuals: -0.024\n",
      "Loss: 6.101, Residuals: -0.027\n",
      "Loss: 6.101, Residuals: -0.026\n",
      "Loss: 6.101, Residuals: -0.026\n",
      "Loss: 6.101, Residuals: -0.027\n",
      "Loss: 6.101, Residuals: -0.027\n",
      "Loss: 6.101, Residuals: -0.028\n",
      "Loss: 6.101, Residuals: -0.029\n",
      "Loss: 6.101, Residuals: -0.029\n",
      "Loss: 6.101, Residuals: -0.029\n",
      "Loss: 6.101, Residuals: -0.029\n",
      "Loss: 6.100, Residuals: -0.030\n",
      "Loss: 6.100, Residuals: -0.030\n",
      "Loss: 6.100, Residuals: -0.030\n",
      "Loss: 6.100, Residuals: -0.030\n",
      "Loss: 6.100, Residuals: -0.030\n",
      "Loss: 6.100, Residuals: -0.030\n",
      "Loss: 6.100, Residuals: -0.030\n",
      "Warning: Desired error not necessarily achieved due to precision loss.\n",
      "Evidence -59.266\n",
      "Updating hyper-parameters...\n",
      "Total samples: 90, Updated regularization: 6.10e-01\n",
      "Loss: 105.770, Residuals: -0.005\n",
      "Loss: 105.194, Residuals: -0.003\n",
      "Loss: 104.623, Residuals: -0.007\n",
      "Loss: 103.629, Residuals: -0.002\n",
      "Loss: 102.375, Residuals: 0.010\n",
      "Loss: 102.300, Residuals: 0.010\n",
      "Loss: 102.227, Residuals: 0.009\n",
      "Loss: 102.089, Residuals: 0.010\n",
      "Loss: 101.849, Residuals: 0.012\n",
      "Loss: 101.834, Residuals: 0.011\n",
      "Loss: 101.699, Residuals: 0.013\n",
      "Loss: 101.649, Residuals: 0.013\n",
      "Loss: 101.555, Residuals: 0.015\n",
      "Loss: 101.541, Residuals: 0.015\n",
      "Loss: 101.406, Residuals: 0.017\n",
      "Loss: 101.391, Residuals: 0.016\n",
      "Loss: 101.369, Residuals: 0.017\n",
      "Loss: 101.182, Residuals: 0.019\n",
      "Loss: 101.141, Residuals: 0.019\n",
      "Loss: 101.106, Residuals: 0.019\n",
      "Loss: 101.044, Residuals: 0.020\n",
      "Loss: 100.985, Residuals: 0.020\n",
      "Loss: 100.937, Residuals: 0.020\n",
      "Loss: 100.907, Residuals: 0.020\n",
      "Loss: 100.889, Residuals: 0.020\n",
      "Loss: 100.880, Residuals: 0.020\n",
      "Loss: 100.869, Residuals: 0.020\n",
      "Loss: 100.858, Residuals: 0.020\n",
      "Loss: 100.854, Residuals: 0.020\n",
      "Loss: 100.852, Residuals: 0.020\n",
      "Loss: 100.848, Residuals: 0.020\n",
      "Loss: 100.847, Residuals: 0.020\n",
      "Optimization terminated successfully.\n",
      "Evidence 807.429\n",
      "Updating hyper-parameters...\n",
      "Total samples: 90, Updated regularization: 1.87e+00\n",
      "Loss: 275.930, Residuals: 0.018\n",
      "Loss: 275.485, Residuals: 0.024\n",
      "Loss: 275.185, Residuals: 0.021\n",
      "Loss: 275.060, Residuals: 0.021\n",
      "Loss: 275.037, Residuals: 0.021\n",
      "Loss: 274.997, Residuals: 0.022\n",
      "Loss: 274.941, Residuals: 0.022\n",
      "Loss: 274.930, Residuals: 0.022\n",
      "Optimization terminated successfully.\n",
      "Evidence 1037.319\n",
      "Updating hyper-parameters...\n",
      "Total samples: 90, Updated regularization: 2.39e+00\n",
      "Loss: 340.760, Residuals: 0.026\n",
      "Loss: 340.139, Residuals: 0.025\n",
      "Loss: 339.854, Residuals: 0.024\n",
      "Loss: 339.789, Residuals: 0.024\n",
      "Loss: 339.674, Residuals: 0.024\n",
      "Loss: 339.589, Residuals: 0.024\n",
      "Loss: 339.583, Residuals: 0.024\n",
      "Optimization terminated successfully.\n",
      "Evidence 1061.442\n",
      "Updating hyper-parameters...\n",
      "Total samples: 90, Updated regularization: 2.50e+00\n",
      "Loss: 351.785, Residuals: 0.026\n",
      "Loss: 351.493, Residuals: 0.025\n",
      "Loss: 351.291, Residuals: 0.023\n",
      "Loss: 351.277, Residuals: 0.023\n",
      "Optimization terminated successfully.\n",
      "Evidence 1065.985\n",
      "Updating hyper-parameters...\n",
      "Total samples: 90, Updated regularization: 2.52e+00\n",
      "Loss: 354.143, Residuals: 0.024\n",
      "Loss: 353.928, Residuals: 0.023\n",
      "Loss: 353.796, Residuals: 0.023\n",
      "Loss: 353.786, Residuals: 0.023\n",
      "Optimization terminated successfully.\n",
      "Evidence 1067.985\n",
      "Updating hyper-parameters...\n",
      "Total samples: 90, Updated regularization: 2.60e+00\n",
      "Loss: 354.877, Residuals: 0.023\n",
      "Loss: 354.776, Residuals: 0.022\n",
      "Loss: 354.771, Residuals: 0.021\n",
      "Optimization terminated successfully.\n",
      "Evidence 1069.118\n",
      "Updating hyper-parameters...\n",
      "Total samples: 90, Updated regularization: 2.61e+00\n",
      "Loss: 355.345, Residuals: 0.022\n",
      "Loss: 355.314, Residuals: 0.022\n",
      "Loss: 355.287, Residuals: 0.021\n",
      "Loss: 355.285, Residuals: 0.021\n",
      "Optimization terminated successfully.\n",
      "Evidence 1069.764\n",
      "Pass count  1\n",
      "Elapsed time 121.49s\n"
     ]
    }
   ],
   "source": [
    "# determine species names \n",
    "species = df.columns.values[2:]\n",
    "\n",
    "# instantiate gLV fit \n",
    "model = gLV(species, df) \n",
    "\n",
    "# fit to data \n",
    "t0 = time.time()\n",
    "model.fit()\n",
    "print(\"Elapsed time {:.2f}s\".format(time.time()-t0))"
   ]
  },
  {
   "cell_type": "code",
   "execution_count": 4,
   "id": "f0737fb5",
   "metadata": {},
   "outputs": [
    {
     "data": {
      "text/plain": [
       "array(['BT', 'BV', 'CD', 'CH', 'BU', 'CS', 'CA', 'DP'], dtype=object)"
      ]
     },
     "execution_count": 4,
     "metadata": {},
     "output_type": "execute_result"
    }
   ],
   "source": [
    "sp_names = df.columns.values[2:]\n",
    "cd_ind = list(sp_names).index(\"CD\")\n",
    "sp_names"
   ]
  },
  {
   "cell_type": "code",
   "execution_count": 5,
   "id": "759c9a08",
   "metadata": {},
   "outputs": [],
   "source": [
    "# define design space to search for CD inhibiting communities\n",
    "# create matrix of all possible communities\n",
    "numspecies = len(sp_names) \n",
    "X = np.array([np.reshape(np.array(i), (1, numspecies)) for i in itertools.product([0, 1], repeat = numspecies)])\n",
    "X = np.squeeze(X, 1)\n",
    "\n",
    "# only keep combinations that have CD \n",
    "CD_inds = X[:, cd_ind] > 0\n",
    "X = X[CD_inds]\n",
    "\n",
    "# normalize so that sum of OD is .01\n",
    "X = (.01 * X.T / np.sum(X, 1)).T\n",
    "\n",
    "# define evaluation times\n",
    "t_eval = np.linspace(0, 24)"
   ]
  },
  {
   "cell_type": "code",
   "execution_count": 6,
   "id": "bab0006f",
   "metadata": {},
   "outputs": [
    {
     "data": {
      "text/plain": [
       "9.910796432926945"
      ]
     },
     "execution_count": 6,
     "metadata": {},
     "output_type": "execute_result"
    }
   ],
   "source": [
    "# determine AUC of CD in mono-culture\n",
    "comm_pred, comm_stdv = model.predict(X[0], t_eval)\n",
    "cd_pred = comm_pred[:, cd_ind]\n",
    "\n",
    "AUC = np.trapz(y=cd_pred, x=t_eval)\n",
    "AUC"
   ]
  },
  {
   "cell_type": "code",
   "execution_count": 7,
   "id": "0d3f8fae",
   "metadata": {},
   "outputs": [],
   "source": [
    "# define objective to compute AUC of CD given a community\n",
    "def objective(comm, t_eval):\n",
    "    # compute AUC in each comm\n",
    "    comm_pred, comm_stdv = model.predict(comm, t_eval)\n",
    "    cd_pred = comm_pred[:, cd_ind]\n",
    "    cd_stdv = comm_stdv[:, cd_ind]\n",
    "        \n",
    "    # objective is the amount that CD was reduced compared to mono culture\n",
    "    obj = AUC - np.trapz(y=cd_pred, x=t_eval)\n",
    "        \n",
    "    return obj"
   ]
  },
  {
   "cell_type": "code",
   "execution_count": 8,
   "id": "49a146ad",
   "metadata": {},
   "outputs": [],
   "source": [
    "# compute objectives for every initial condition \n",
    "objectives = np.array([objective(x, t_eval) for x in X])"
   ]
  },
  {
   "cell_type": "code",
   "execution_count": 9,
   "id": "0c01caff",
   "metadata": {},
   "outputs": [],
   "source": [
    "def comm_name(present_species):\n",
    "    c_name = \"\"\n",
    "    for p_s in present_species:\n",
    "        if p_s != 'CD':\n",
    "            c_name += p_s + \"-\"\n",
    "    return c_name[:-1]"
   ]
  },
  {
   "cell_type": "code",
   "execution_count": 10,
   "id": "8e10bb0a",
   "metadata": {
    "scrolled": true
   },
   "outputs": [
    {
     "data": {
      "image/png": "[encoded data removed]",
      "text/plain": [
       "<Figure size 640x480 with 1 Axes>"
      ]
     },
     "metadata": {},
     "output_type": "display_data"
    }
   ],
   "source": [
    "# compute strain specific objectives\n",
    "mono_pred, mono_stdv = model.predict(X[0], t_eval)\n",
    "strain_pred, strain_stdv = model.predict(X[np.argmax(objectives)], t_eval)\n",
    "\n",
    "plt.plot(t_eval, mono_pred[:,2], label=f\"CD in monoculture\", color='k', linestyle='-')\n",
    "#plt.fill_between(t_eval, full_pred[:,4]-full_stdv[:,4], full_pred[:,4]+full_stdv[:,4], color='k', alpha=0.2)\n",
    "\n",
    "c_name = comm_name(sp_names[X[np.argmax(objectives)] > 0])\n",
    "plt.plot(t_eval, strain_pred[:,2], label=f\"CD in optimized community:\\n{c_name}\", color='k', linestyle='--')\n",
    "#plt.fill_between(t_eval, strain_pred[:,4]-strain_stdv[:,4], strain_pred[:,4]+strain_stdv[:,4], color='k', alpha=0.2)\n",
    "\n",
    "#plt.plot(t_eval, obj_pred[:,4], label=f\"Robust\", color='k', linestyle='-')\n",
    "#plt.fill_between(t_eval, obj_pred[:,4]-obj_stdv[:,4], obj_pred[:,4]+obj_stdv[:,4], color='k', alpha=0.2)\n",
    "\n",
    "plt.legend()\n",
    "# plt.ylim([0, .3])\n",
    "\n",
    "plt.xlabel(\"Time (hr)\", fontsize=16)\n",
    "plt.ylabel(\"Abundance (OD)\", fontsize=16)\n",
    "    \n",
    "plt.tight_layout()\n",
    "# plt.savefig(\"cd_inhibition.pdf\", dpi=300)\n",
    "plt.show()"
   ]
  },
  {
   "cell_type": "code",
   "execution_count": 11,
   "id": "1daf828a",
   "metadata": {},
   "outputs": [],
   "source": [
    "# highlight \n",
    "# C1: CH-CS-DP + CD"
   ]
  },
  {
   "cell_type": "code",
   "execution_count": 12,
   "id": "0322ccaf",
   "metadata": {},
   "outputs": [
    {
     "data": {
      "text/plain": [
       "array(['CD', 'CH', 'CS', 'DP'], dtype=object)"
      ]
     },
     "execution_count": 12,
     "metadata": {},
     "output_type": "execute_result"
    }
   ],
   "source": [
    "comm1_inds = [2, 3, 5, 7]\n",
    "species[comm1_inds]"
   ]
  },
  {
   "cell_type": "code",
   "execution_count": 13,
   "id": "88fb8a0f",
   "metadata": {},
   "outputs": [],
   "source": [
    "comm1_ind = np.argmax(np.sum(X[:, comm1_inds] > 0, 1))"
   ]
  },
  {
   "cell_type": "code",
   "execution_count": 14,
   "id": "408633da",
   "metadata": {},
   "outputs": [
    {
     "data": {
      "text/plain": [
       "7.432075916466358"
      ]
     },
     "execution_count": 14,
     "metadata": {},
     "output_type": "execute_result"
    }
   ],
   "source": [
    "objectives[comm1_ind]"
   ]
  },
  {
   "cell_type": "code",
   "execution_count": 15,
   "id": "fe8f6793",
   "metadata": {},
   "outputs": [
    {
     "data": {
      "text/plain": [
       "array(['CD', 'BU', 'CA', 'DP'], dtype=object)"
      ]
     },
     "execution_count": 15,
     "metadata": {},
     "output_type": "execute_result"
    }
   ],
   "source": [
    "# C2: BU-CA-DP + CD\n",
    "comm2_inds = [2, 4, 6, 7]\n",
    "species[comm2_inds]"
   ]
  },
  {
   "cell_type": "code",
   "execution_count": 16,
   "id": "fc0b5455",
   "metadata": {},
   "outputs": [],
   "source": [
    "comm2_ind = np.argmax(np.sum(X[:, comm2_inds] > 0, 1))"
   ]
  },
  {
   "cell_type": "code",
   "execution_count": 17,
   "id": "7c09835a",
   "metadata": {},
   "outputs": [
    {
     "data": {
      "text/plain": [
       "1.45925249554673"
      ]
     },
     "execution_count": 17,
     "metadata": {},
     "output_type": "execute_result"
    }
   ],
   "source": [
    "objectives[comm2_ind]"
   ]
  },
  {
   "cell_type": "code",
   "execution_count": 18,
   "id": "6870c431",
   "metadata": {},
   "outputs": [],
   "source": [
    "comm_names = [\"CD+\"+comm_name(sp_names[x0 > 0]) for x0 in X]\n",
    "richness = np.sum(X > 0, 1)\n",
    "df_opt = pd.DataFrame()\n",
    "df_opt[\"Comms\"] = comm_names\n",
    "df_opt[\"Richness\"] = richness\n",
    "df_opt[\"Objective\"] = objectives\n",
    "df_opt.to_csv(\"opt/df_gLV_DSM.csv\", index=False)"
   ]
  },
  {
   "cell_type": "code",
   "execution_count": 20,
   "id": "0ff8b682",
   "metadata": {},
   "outputs": [
    {
     "data": {
      "image/png": "[encoded data removed]",
      "text/plain": [
       "<Figure size 640x480 with 1 Axes>"
      ]
     },
     "metadata": {},
     "output_type": "display_data"
    }
   ],
   "source": [
    "plt.scatter(np.sum(X > 0, 1), objectives)\n",
    "plt.scatter(np.sum(X[comm1_ind]>0), objectives[comm1_ind], edgecolor='k', s=70, label=\"CH,CS,DP\")\n",
    "plt.scatter(np.sum(X[comm2_ind]>0), objectives[comm2_ind], edgecolor='k', s=70, label=\"BU,CA,DP\")\n",
    "\n",
    "plt.legend(loc='center left')\n",
    "plt.xlabel(\"Number of species in community\")\n",
    "plt.ylabel(\"Reduction in CD compared to mono-culture\")\n",
    "plt.savefig(\"figures/CDreduction_vs_richness_DSM.pdf\", dpi=300)\n",
    "plt.show()"
   ]
  }
 ],
 "metadata": {
  "kernelspec": {
   "display_name": "Python 3 (ipykernel)",
   "language": "python",
   "name": "python3"
  },
  "language_info": {
   "codemirror_mode": {
    "name": "ipython",
    "version": 3
   },
   "file_extension": ".py",
   "mimetype": "text/x-python",
   "name": "python",
   "nbconvert_exporter": "python",
   "pygments_lexer": "ipython3",
   "version": "3.9.16"
  }
 },
 "nbformat": 4,
 "nbformat_minor": 5
}
