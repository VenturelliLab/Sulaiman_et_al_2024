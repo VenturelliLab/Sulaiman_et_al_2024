{
 "cells": [
  {
   "cell_type": "code",
   "execution_count": 1,
   "id": "a637f20e",
   "metadata": {},
   "outputs": [],
   "source": [
    "import pandas as pd\n",
    "import numpy as np\n",
    "import matplotlib.pyplot as plt \n",
    "from scipy.stats import norm\n",
    "\n",
    "import os\n",
    "import time\n",
    "import itertools\n",
    "\n",
    "from glove.model import *"
   ]
  },
  {
   "cell_type": "markdown",
   "id": "e35f0bf8",
   "metadata": {},
   "source": [
    "# Combine data sets"
   ]
  },
  {
   "cell_type": "code",
   "execution_count": 2,
   "id": "bfe6b9d6",
   "metadata": {},
   "outputs": [],
   "source": [
    "# import data\n",
    "df19 = pd.read_csv(\"data/EXP0019_MS014_processed.csv\")\n",
    "df24 = pd.read_csv(\"data/MS014.csv\")\n",
    "dfun = pd.read_csv(\"data/Universal.csv\")\n",
    "\n",
    "# combine and sort\n",
    "df = pd.concat((df19, df24, dfun))\n",
    "df.sort_values(by=[\"Treatments\", \"Time\"], inplace=True)"
   ]
  },
  {
   "cell_type": "markdown",
   "id": "8f66f683",
   "metadata": {},
   "source": [
    "# fit gLV models"
   ]
  },
  {
   "cell_type": "code",
   "execution_count": 3,
   "id": "9af71ae6",
   "metadata": {
    "scrolled": true
   },
   "outputs": [
    {
     "name": "stderr",
     "output_type": "stream",
     "text": [
      "No GPU/TPU found, falling back to CPU. (Set TF_CPP_MIN_LOG_LEVEL=0 and rerun for more info.)\n"
     ]
    },
    {
     "name": "stdout",
     "output_type": "stream",
     "text": [
      "Total samples: 88, Initial regularization: 1.00e-03\n",
      "Loss: 15.726, Residuals: 0.043\n",
      "Loss: 9.564, Residuals: 0.124\n",
      "Loss: 7.973, Residuals: 0.115\n",
      "Loss: 7.793, Residuals: 0.088\n",
      "Loss: 7.457, Residuals: 0.076\n",
      "Loss: 6.896, Residuals: 0.053\n",
      "Loss: 6.521, Residuals: 0.028\n",
      "Loss: 6.101, Residuals: 0.006\n",
      "Loss: 6.050, Residuals: 0.015\n",
      "Loss: 5.999, Residuals: 0.016\n",
      "Loss: 5.921, Residuals: 0.005\n",
      "Loss: 5.881, Residuals: 0.002\n",
      "Loss: 5.873, Residuals: 0.003\n",
      "Loss: 5.858, Residuals: -0.001\n",
      "Loss: 5.832, Residuals: -0.007\n",
      "Loss: 5.802, Residuals: -0.018\n",
      "Loss: 5.800, Residuals: -0.018\n",
      "Loss: 5.797, Residuals: -0.016\n",
      "Loss: 5.794, Residuals: -0.017\n",
      "Loss: 5.792, Residuals: -0.018\n",
      "Loss: 5.792, Residuals: -0.018\n",
      "Loss: 5.791, Residuals: -0.018\n",
      "Loss: 5.791, Residuals: -0.018\n",
      "Loss: 5.790, Residuals: -0.019\n",
      "Loss: 5.788, Residuals: -0.019\n",
      "Loss: 5.788, Residuals: -0.019\n",
      "Loss: 5.787, Residuals: -0.021\n",
      "Loss: 5.787, Residuals: -0.020\n",
      "Loss: 5.786, Residuals: -0.021\n",
      "Loss: 5.786, Residuals: -0.020\n",
      "Loss: 5.785, Residuals: -0.021\n",
      "Loss: 5.785, Residuals: -0.021\n",
      "Loss: 5.785, Residuals: -0.021\n",
      "Loss: 5.784, Residuals: -0.021\n",
      "Loss: 5.784, Residuals: -0.021\n",
      "Loss: 5.784, Residuals: -0.021\n",
      "Loss: 5.784, Residuals: -0.021\n",
      "Loss: 5.784, Residuals: -0.021\n",
      "Loss: 5.784, Residuals: -0.022\n",
      "Loss: 5.784, Residuals: -0.021\n",
      "Loss: 5.784, Residuals: -0.022\n",
      "Loss: 5.784, Residuals: -0.022\n",
      "Loss: 5.784, Residuals: -0.022\n",
      "Loss: 5.783, Residuals: -0.022\n",
      "Loss: 5.783, Residuals: -0.022\n",
      "Loss: 5.783, Residuals: -0.022\n",
      "Loss: 5.783, Residuals: -0.022\n",
      "Loss: 5.783, Residuals: -0.022\n",
      "Loss: 5.783, Residuals: -0.022\n",
      "Loss: 5.783, Residuals: -0.022\n",
      "Loss: 5.783, Residuals: -0.022\n",
      "Loss: 5.783, Residuals: -0.022\n",
      "Loss: 5.783, Residuals: -0.022\n",
      "Loss: 5.783, Residuals: -0.022\n",
      "Loss: 5.783, Residuals: -0.022\n",
      "Loss: 5.783, Residuals: -0.022\n",
      "Loss: 5.783, Residuals: -0.022\n",
      "Loss: 5.783, Residuals: -0.022\n",
      "Warning: Desired error not necessarily achieved due to precision loss.\n",
      "Evidence -59.135\n",
      "Updating hyper-parameters...\n",
      "Total samples: 88, Updated regularization: 7.85e-01\n",
      "Loss: 95.435, Residuals: -0.010\n",
      "Loss: 93.806, Residuals: 0.006\n",
      "Loss: 93.413, Residuals: 0.002\n",
      "Loss: 92.667, Residuals: 0.004\n",
      "Loss: 91.354, Residuals: 0.004\n",
      "Loss: 91.310, Residuals: 0.003\n",
      "Optimization terminated successfully.\n",
      "Evidence 790.115\n",
      "Updating hyper-parameters...\n",
      "Total samples: 88, Updated regularization: 1.17e+00\n",
      "Loss: 262.079, Residuals: 0.006\n",
      "Loss: 261.309, Residuals: 0.001\n",
      "Loss: 260.552, Residuals: 0.002\n",
      "Loss: 260.423, Residuals: 0.001\n",
      "Loss: 260.186, Residuals: 0.002\n",
      "Loss: 259.830, Residuals: 0.004\n",
      "Loss: 259.827, Residuals: 0.004\n",
      "Optimization terminated successfully.\n",
      "Evidence 1045.058\n",
      "Updating hyper-parameters...\n",
      "Total samples: 88, Updated regularization: 1.49e+00\n",
      "Loss: 335.823, Residuals: 0.003\n",
      "Loss: 335.522, Residuals: 0.001\n",
      "Loss: 335.192, Residuals: 0.001\n",
      "Loss: 335.178, Residuals: 0.002\n",
      "Optimization terminated successfully.\n",
      "Evidence 1072.785\n",
      "Updating hyper-parameters...\n",
      "Total samples: 88, Updated regularization: 1.61e+00\n",
      "Loss: 348.873, Residuals: 0.002\n",
      "Loss: 348.772, Residuals: 0.000\n",
      "Loss: 348.654, Residuals: 0.001\n",
      "Loss: 348.649, Residuals: 0.000\n",
      "Optimization terminated successfully.\n",
      "Evidence 1075.928\n",
      "Updating hyper-parameters...\n",
      "Total samples: 88, Updated regularization: 1.66e+00\n",
      "Loss: 351.111, Residuals: 0.000\n",
      "Loss: 351.097, Residuals: -0.001\n",
      "Loss: 351.073, Residuals: -0.000\n",
      "Loss: 351.039, Residuals: -0.000\n",
      "Loss: 351.037, Residuals: -0.000\n",
      "Optimization terminated successfully.\n",
      "Evidence 1077.077\n",
      "Updating hyper-parameters...\n",
      "Total samples: 88, Updated regularization: 1.68e+00\n",
      "Loss: 351.822, Residuals: -0.000\n",
      "Loss: 351.815, Residuals: -0.001\n",
      "Optimization terminated successfully.\n",
      "Evidence 1077.522\n",
      "Pass count  1\n",
      "Elapsed time 37.89s\n"
     ]
    }
   ],
   "source": [
    "# determine species names \n",
    "species = df.columns.values[2:]\n",
    "\n",
    "# instantiate gLV fit \n",
    "model = gLV(species, df) \n",
    "\n",
    "# fit to data \n",
    "t0 = time.time()\n",
    "model.fit()\n",
    "print(\"Elapsed time {:.2f}s\".format(time.time()-t0))"
   ]
  },
  {
   "cell_type": "code",
   "execution_count": 4,
   "id": "f0737fb5",
   "metadata": {},
   "outputs": [
    {
     "data": {
      "text/plain": [
       "array(['BT', 'BV', 'CD', 'CH', 'BU', 'CS', 'CA', 'DP'], dtype=object)"
      ]
     },
     "execution_count": 4,
     "metadata": {},
     "output_type": "execute_result"
    }
   ],
   "source": [
    "sp_names = df.columns.values[2:]\n",
    "cd_ind = list(sp_names).index(\"CD\")\n",
    "sp_names"
   ]
  },
  {
   "cell_type": "code",
   "execution_count": 5,
   "id": "759c9a08",
   "metadata": {},
   "outputs": [],
   "source": [
    "# define design space to search for CD inhibiting communities\n",
    "# create matrix of all possible communities\n",
    "numspecies = len(sp_names) \n",
    "X = np.array([np.reshape(np.array(i), (1, numspecies)) for i in itertools.product([0, 1], repeat = numspecies)])\n",
    "X = np.squeeze(X, 1)\n",
    "\n",
    "# only keep combinations that have CD \n",
    "CD_inds = X[:, cd_ind] > 0\n",
    "X = X[CD_inds]\n",
    "\n",
    "# normalize so that sum of OD is .01\n",
    "X = (.01 * X.T / np.sum(X, 1)).T\n",
    "\n",
    "# define evaluation times\n",
    "t_eval = np.linspace(0, 24)"
   ]
  },
  {
   "cell_type": "code",
   "execution_count": 6,
   "id": "0d3f8fae",
   "metadata": {},
   "outputs": [],
   "source": [
    "# define objective to compute 24hr CD given a community\n",
    "def objective(comm, t_eval):\n",
    "    # predict CD in each comm\n",
    "    comm_pred, comm_stdv = model.predict(comm, t_eval)\n",
    "    cd_pred = comm_pred[:, cd_ind]\n",
    "        \n",
    "    # objective is to minimize CD growth\n",
    "    return cd_pred[-1]"
   ]
  },
  {
   "cell_type": "code",
   "execution_count": 7,
   "id": "49a146ad",
   "metadata": {},
   "outputs": [],
   "source": [
    "# compute objectives for every initial condition \n",
    "objectives = np.array([objective(x, t_eval) for x in X])"
   ]
  },
  {
   "cell_type": "code",
   "execution_count": 8,
   "id": "0c01caff",
   "metadata": {},
   "outputs": [],
   "source": [
    "def comm_name(present_species):\n",
    "    c_name = \"\"\n",
    "    for p_s in present_species:\n",
    "        if p_s != 'CD':\n",
    "            c_name += p_s + \"-\"\n",
    "    return c_name[:-1]"
   ]
  },
  {
   "cell_type": "code",
   "execution_count": 9,
   "id": "8e10bb0a",
   "metadata": {
    "scrolled": true
   },
   "outputs": [
    {
     "data": {
      "image/png": "[encoded data removed]",
      "text/plain": [
       "<Figure size 640x480 with 1 Axes>"
      ]
     },
     "metadata": {},
     "output_type": "display_data"
    }
   ],
   "source": [
    "# compute strain specific objectives\n",
    "mono_pred, mono_stdv = model.predict(X[0], t_eval)\n",
    "strain_pred, strain_stdv = model.predict(X[np.argmin(objectives)], t_eval)\n",
    "\n",
    "plt.plot(t_eval, mono_pred[:,2], label=f\"CD in monoculture\", color='k', linestyle='-')\n",
    "#plt.fill_between(t_eval, full_pred[:,4]-full_stdv[:,4], full_pred[:,4]+full_stdv[:,4], color='k', alpha=0.2)\n",
    "\n",
    "c_name = comm_name(sp_names[X[np.argmax(objectives)] > 0])\n",
    "plt.plot(t_eval, strain_pred[:,2], label=f\"CD in optimized community:\\n{c_name}\", color='k', linestyle='--')\n",
    "#plt.fill_between(t_eval, strain_pred[:,4]-strain_stdv[:,4], strain_pred[:,4]+strain_stdv[:,4], color='k', alpha=0.2)\n",
    "\n",
    "#plt.plot(t_eval, obj_pred[:,4], label=f\"Robust\", color='k', linestyle='-')\n",
    "#plt.fill_between(t_eval, obj_pred[:,4]-obj_stdv[:,4], obj_pred[:,4]+obj_stdv[:,4], color='k', alpha=0.2)\n",
    "\n",
    "plt.legend()\n",
    "# plt.ylim([0, .3])\n",
    "\n",
    "plt.xlabel(\"Time (hr)\", fontsize=16)\n",
    "plt.ylabel(\"Abundance (OD)\", fontsize=16)\n",
    "    \n",
    "plt.tight_layout()\n",
    "# plt.savefig(\"cd_inhibition.pdf\", dpi=300)\n",
    "plt.show()"
   ]
  },
  {
   "cell_type": "code",
   "execution_count": 10,
   "id": "1daf828a",
   "metadata": {},
   "outputs": [],
   "source": [
    "# highlight \n",
    "# C1: CH-CS-DP + CD"
   ]
  },
  {
   "cell_type": "code",
   "execution_count": 11,
   "id": "0322ccaf",
   "metadata": {},
   "outputs": [
    {
     "data": {
      "text/plain": [
       "array(['CD', 'CH', 'CS', 'DP'], dtype=object)"
      ]
     },
     "execution_count": 11,
     "metadata": {},
     "output_type": "execute_result"
    }
   ],
   "source": [
    "comm1_inds = [2, 3, 5, 7]\n",
    "species[comm1_inds]"
   ]
  },
  {
   "cell_type": "code",
   "execution_count": 12,
   "id": "88fb8a0f",
   "metadata": {},
   "outputs": [],
   "source": [
    "comm1_ind = np.argmax(np.sum(X[:, comm1_inds] > 0, 1))"
   ]
  },
  {
   "cell_type": "code",
   "execution_count": 13,
   "id": "408633da",
   "metadata": {},
   "outputs": [
    {
     "data": {
      "text/plain": [
       "0.4201139"
      ]
     },
     "execution_count": 13,
     "metadata": {},
     "output_type": "execute_result"
    }
   ],
   "source": [
    "objectives[comm1_ind]"
   ]
  },
  {
   "cell_type": "code",
   "execution_count": 14,
   "id": "fe8f6793",
   "metadata": {},
   "outputs": [
    {
     "data": {
      "text/plain": [
       "array(['CD', 'BU', 'CA', 'DP'], dtype=object)"
      ]
     },
     "execution_count": 14,
     "metadata": {},
     "output_type": "execute_result"
    }
   ],
   "source": [
    "# C2: BU-CA-DP + CD\n",
    "comm2_inds = [2, 4, 6, 7]\n",
    "species[comm2_inds]"
   ]
  },
  {
   "cell_type": "code",
   "execution_count": 15,
   "id": "fc0b5455",
   "metadata": {},
   "outputs": [],
   "source": [
    "comm2_ind = np.argmax(np.sum(X[:, comm2_inds] > 0, 1))"
   ]
  },
  {
   "cell_type": "code",
   "execution_count": 16,
   "id": "7c09835a",
   "metadata": {},
   "outputs": [
    {
     "data": {
      "text/plain": [
       "0.5847717"
      ]
     },
     "execution_count": 16,
     "metadata": {},
     "output_type": "execute_result"
    }
   ],
   "source": [
    "objectives[comm2_ind]"
   ]
  },
  {
   "cell_type": "code",
   "execution_count": 17,
   "id": "6870c431",
   "metadata": {},
   "outputs": [],
   "source": [
    "comm_names = [\"CD+\"+comm_name(sp_names[x0 > 0]) for x0 in X]\n",
    "richness = np.sum(X > 0, 1)\n",
    "df_opt = pd.DataFrame()\n",
    "df_opt[\"Comms\"] = comm_names\n",
    "df_opt[\"Richness\"] = richness\n",
    "df_opt[\"CD OD\"] = objectives\n",
    "df_opt.to_csv(\"opt/df_gLV_MS014_growth.csv\", index=False)"
   ]
  },
  {
   "cell_type": "code",
   "execution_count": 18,
   "id": "0ff8b682",
   "metadata": {},
   "outputs": [
    {
     "data": {
      "image/png": "[encoded data removed]",
      "text/plain": [
       "<Figure size 640x480 with 1 Axes>"
      ]
     },
     "metadata": {},
     "output_type": "display_data"
    }
   ],
   "source": [
    "plt.scatter(np.sum(X > 0, 1), objectives)\n",
    "plt.scatter(np.sum(X[comm1_ind]>0), objectives[comm1_ind], edgecolor='k', s=70, label=\"CH,CS,DP\")\n",
    "plt.scatter(np.sum(X[comm2_ind]>0), objectives[comm2_ind], edgecolor='k', s=70, label=\"BU,CA,DP\")\n",
    "\n",
    "plt.legend(loc='center left')\n",
    "plt.xlabel(\"Number of species in community\")\n",
    "plt.ylabel(\"Predicted 24hr CD OD\")\n",
    "plt.savefig(\"figures/CDreduction_vs_richness_MS014.pdf\", dpi=300)\n",
    "plt.show()"
   ]
  }
 ],
 "metadata": {
  "kernelspec": {
   "display_name": "Python 3 (ipykernel)",
   "language": "python",
   "name": "python3"
  },
  "language_info": {
   "codemirror_mode": {
    "name": "ipython",
    "version": 3
   },
   "file_extension": ".py",
   "mimetype": "text/x-python",
   "name": "python",
   "nbconvert_exporter": "python",
   "pygments_lexer": "ipython3",
   "version": "3.11.3"
  }
 },
 "nbformat": 4,
 "nbformat_minor": 5
}
