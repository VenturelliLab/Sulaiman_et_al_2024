{
 "cells": [
  {
   "cell_type": "code",
   "execution_count": 1,
   "id": "a637f20e",
   "metadata": {},
   "outputs": [],
   "source": [
    "import pandas as pd\n",
    "import numpy as np\n",
    "import matplotlib.pyplot as plt \n",
    "from scipy.stats import norm\n",
    "\n",
    "import os\n",
    "import time\n",
    "import itertools\n",
    "\n",
    "from glove.model import *"
   ]
  },
  {
   "cell_type": "markdown",
   "id": "e35f0bf8",
   "metadata": {},
   "source": [
    "# Combine data sets"
   ]
  },
  {
   "cell_type": "code",
   "execution_count": 2,
   "id": "bfe6b9d6",
   "metadata": {},
   "outputs": [],
   "source": [
    "# import data\n",
    "df19 = pd.read_csv(\"data/EXP0019_DSM_processed.csv\")\n",
    "df24 = pd.read_csv(\"data/DSM.csv\")\n",
    "dfun = pd.read_csv(\"data/Universal.csv\")\n",
    "\n",
    "# combine and sort\n",
    "df = pd.concat((df19, df24, dfun))\n",
    "df.sort_values(by=[\"Treatments\", \"Time\"], inplace=True)"
   ]
  },
  {
   "cell_type": "markdown",
   "id": "8f66f683",
   "metadata": {},
   "source": [
    "# fit gLV models"
   ]
  },
  {
   "cell_type": "code",
   "execution_count": 3,
   "id": "9af71ae6",
   "metadata": {
    "scrolled": true
   },
   "outputs": [
    {
     "name": "stderr",
     "output_type": "stream",
     "text": [
      "No GPU/TPU found, falling back to CPU. (Set TF_CPP_MIN_LOG_LEVEL=0 and rerun for more info.)\n"
     ]
    },
    {
     "name": "stdout",
     "output_type": "stream",
     "text": [
      "Total samples: 90, Initial regularization: 1.00e-03\n",
      "Loss: 16.472, Residuals: 0.028\n",
      "Loss: 10.842, Residuals: -0.052\n",
      "Loss: 9.298, Residuals: 0.109\n",
      "Loss: 7.837, Residuals: -0.036\n",
      "Loss: 7.429, Residuals: 0.091\n",
      "Loss: 6.867, Residuals: 0.065\n",
      "Loss: 6.523, Residuals: 0.023\n",
      "Loss: 6.467, Residuals: 0.027\n",
      "Loss: 6.380, Residuals: 0.012\n",
      "Loss: 6.284, Residuals: -0.010\n",
      "Loss: 6.280, Residuals: 0.001\n",
      "Loss: 6.244, Residuals: -0.003\n",
      "Loss: 6.229, Residuals: 0.001\n",
      "Loss: 6.202, Residuals: -0.004\n",
      "Loss: 6.193, Residuals: -0.000\n",
      "Loss: 6.177, Residuals: -0.003\n",
      "Loss: 6.165, Residuals: -0.007\n",
      "Loss: 6.163, Residuals: -0.005\n",
      "Loss: 6.157, Residuals: -0.007\n",
      "Loss: 6.149, Residuals: -0.011\n",
      "Loss: 6.148, Residuals: -0.009\n",
      "Loss: 6.143, Residuals: -0.013\n",
      "Loss: 6.137, Residuals: -0.018\n",
      "Loss: 6.137, Residuals: -0.018\n",
      "Loss: 6.137, Residuals: -0.018\n",
      "Loss: 6.136, Residuals: -0.019\n",
      "Loss: 6.136, Residuals: -0.019\n",
      "Loss: 6.136, Residuals: -0.020\n",
      "Loss: 6.136, Residuals: -0.021\n",
      "Loss: 6.136, Residuals: -0.021\n",
      "Loss: 6.136, Residuals: -0.021\n",
      "Loss: 6.136, Residuals: -0.022\n",
      "Loss: 6.136, Residuals: -0.022\n",
      "Loss: 6.136, Residuals: -0.022\n",
      "Loss: 6.136, Residuals: -0.022\n",
      "Loss: 6.136, Residuals: -0.022\n",
      "Loss: 6.136, Residuals: -0.022\n",
      "Loss: 6.136, Residuals: -0.022\n",
      "Loss: 6.136, Residuals: -0.022\n",
      "Warning: Desired error not necessarily achieved due to precision loss.\n",
      "Evidence -59.341\n",
      "Updating hyper-parameters...\n",
      "Total samples: 90, Updated regularization: 7.55e-01\n",
      "Loss: 102.885, Residuals: -0.005\n",
      "Loss: 102.481, Residuals: -0.002\n",
      "Loss: 101.756, Residuals: 0.001\n",
      "Loss: 100.590, Residuals: 0.006\n",
      "Loss: 99.708, Residuals: 0.013\n",
      "Loss: 99.649, Residuals: 0.012\n",
      "Loss: 99.592, Residuals: 0.012\n",
      "Loss: 99.485, Residuals: 0.013\n",
      "Loss: 99.297, Residuals: 0.014\n",
      "Loss: 99.282, Residuals: 0.013\n",
      "Loss: 99.143, Residuals: 0.016\n",
      "Loss: 99.116, Residuals: 0.016\n",
      "Loss: 98.913, Residuals: 0.019\n",
      "Loss: 98.900, Residuals: 0.018\n",
      "Optimization terminated successfully.\n",
      "Evidence 808.746\n",
      "Updating hyper-parameters...\n",
      "Total samples: 90, Updated regularization: 2.03e+00\n",
      "Loss: 272.787, Residuals: 0.025\n",
      "Loss: 272.320, Residuals: 0.026\n",
      "Loss: 272.003, Residuals: 0.024\n",
      "Loss: 271.839, Residuals: 0.022\n",
      "Loss: 271.749, Residuals: 0.022\n",
      "Loss: 271.723, Residuals: 0.022\n",
      "Loss: 271.688, Residuals: 0.022\n",
      "Loss: 271.680, Residuals: 0.022\n",
      "Loss: 271.668, Residuals: 0.022\n",
      "Loss: 271.652, Residuals: 0.023\n",
      "Loss: 271.650, Residuals: 0.023\n",
      "Optimization terminated successfully.\n",
      "Evidence 1044.062\n",
      "Updating hyper-parameters...\n",
      "Total samples: 90, Updated regularization: 2.71e+00\n",
      "Loss: 340.531, Residuals: 0.026\n",
      "Loss: 340.183, Residuals: 0.025\n",
      "Loss: 339.957, Residuals: 0.023\n",
      "Loss: 339.900, Residuals: 0.024\n",
      "Loss: 339.814, Residuals: 0.024\n",
      "Loss: 339.807, Residuals: 0.024\n",
      "Optimization terminated successfully.\n",
      "Evidence 1067.823\n",
      "Updating hyper-parameters...\n",
      "Total samples: 90, Updated regularization: 2.90e+00\n",
      "Loss: 351.954, Residuals: 0.025\n",
      "Loss: 351.795, Residuals: 0.024\n",
      "Loss: 351.774, Residuals: 0.024\n",
      "Loss: 351.735, Residuals: 0.024\n",
      "Loss: 351.671, Residuals: 0.023\n",
      "Loss: 351.655, Residuals: 0.023\n",
      "Loss: 351.630, Residuals: 0.023\n",
      "Loss: 351.628, Residuals: 0.023\n",
      "Optimization terminated successfully.\n",
      "Evidence 1071.598\n",
      "Updating hyper-parameters...\n",
      "Total samples: 90, Updated regularization: 3.00e+00\n",
      "Loss: 354.130, Residuals: 0.023\n",
      "Loss: 354.057, Residuals: 0.023\n",
      "Loss: 354.020, Residuals: 0.022\n",
      "Loss: 354.016, Residuals: 0.022\n",
      "Optimization terminated successfully.\n",
      "Evidence 1073.221\n",
      "Updating hyper-parameters...\n",
      "Total samples: 90, Updated regularization: 3.05e+00\n",
      "Loss: 354.945, Residuals: 0.022\n",
      "Loss: 354.911, Residuals: 0.022\n",
      "Loss: 354.907, Residuals: 0.022\n",
      "Optimization terminated successfully.\n",
      "Evidence 1073.992\n",
      "Pass count  1\n",
      "Elapsed time 38.54s\n"
     ]
    }
   ],
   "source": [
    "# determine species names \n",
    "species = df.columns.values[2:]\n",
    "\n",
    "# instantiate gLV fit \n",
    "model = gLV(species, df) \n",
    "\n",
    "# fit to data \n",
    "t0 = time.time()\n",
    "model.fit()\n",
    "print(\"Elapsed time {:.2f}s\".format(time.time()-t0))"
   ]
  },
  {
   "cell_type": "code",
   "execution_count": 4,
   "id": "f0737fb5",
   "metadata": {},
   "outputs": [
    {
     "data": {
      "text/plain": [
       "array(['BT', 'BV', 'CD', 'CH', 'BU', 'CS', 'CA', 'DP'], dtype=object)"
      ]
     },
     "execution_count": 4,
     "metadata": {},
     "output_type": "execute_result"
    }
   ],
   "source": [
    "sp_names = df.columns.values[2:]\n",
    "cd_ind = list(sp_names).index(\"CD\")\n",
    "sp_names"
   ]
  },
  {
   "cell_type": "code",
   "execution_count": 5,
   "id": "759c9a08",
   "metadata": {},
   "outputs": [],
   "source": [
    "# define design space to search for CD inhibiting communities\n",
    "# create matrix of all possible communities\n",
    "numspecies = len(sp_names) \n",
    "X = np.array([np.reshape(np.array(i), (1, numspecies)) for i in itertools.product([0, 1], repeat = numspecies)])\n",
    "X = np.squeeze(X, 1)\n",
    "\n",
    "# only keep combinations that have CD \n",
    "CD_inds = X[:, cd_ind] > 0\n",
    "X = X[CD_inds]\n",
    "\n",
    "# normalize so that sum of OD is .01\n",
    "X = (.01 * X.T / np.sum(X, 1)).T\n",
    "\n",
    "# define evaluation times\n",
    "t_eval = np.linspace(0, 24)"
   ]
  },
  {
   "cell_type": "code",
   "execution_count": 6,
   "id": "0d3f8fae",
   "metadata": {},
   "outputs": [],
   "source": [
    "# define objective to compute 24hr CD given a community\n",
    "def objective(comm, t_eval):\n",
    "    # predict CD in each comm\n",
    "    comm_pred, comm_stdv = model.predict(comm, t_eval)\n",
    "    cd_pred = comm_pred[:, cd_ind]\n",
    "        \n",
    "    # objective is to minimize CD growth\n",
    "    return cd_pred[-1]"
   ]
  },
  {
   "cell_type": "code",
   "execution_count": 7,
   "id": "49a146ad",
   "metadata": {},
   "outputs": [],
   "source": [
    "# compute objectives for every initial condition \n",
    "objectives = np.array([objective(x, t_eval) for x in X])"
   ]
  },
  {
   "cell_type": "code",
   "execution_count": 8,
   "id": "0c01caff",
   "metadata": {},
   "outputs": [],
   "source": [
    "def comm_name(present_species):\n",
    "    c_name = \"\"\n",
    "    for p_s in present_species:\n",
    "        if p_s != 'CD':\n",
    "            c_name += p_s + \"-\"\n",
    "    return c_name[:-1]"
   ]
  },
  {
   "cell_type": "code",
   "execution_count": 9,
   "id": "8e10bb0a",
   "metadata": {
    "scrolled": true
   },
   "outputs": [
    {
     "data": {
      "image/png": "[encoded data removed]",
      "text/plain": [
       "<Figure size 640x480 with 1 Axes>"
      ]
     },
     "metadata": {},
     "output_type": "display_data"
    }
   ],
   "source": [
    "# compute strain specific objectives\n",
    "mono_pred, mono_stdv = model.predict(X[0], t_eval)\n",
    "strain_pred, strain_stdv = model.predict(X[np.argmin(objectives)], t_eval)\n",
    "\n",
    "plt.plot(t_eval, mono_pred[:,2], label=f\"CD in monoculture\", color='k', linestyle='-')\n",
    "#plt.fill_between(t_eval, full_pred[:,4]-full_stdv[:,4], full_pred[:,4]+full_stdv[:,4], color='k', alpha=0.2)\n",
    "\n",
    "c_name = comm_name(sp_names[X[np.argmax(objectives)] > 0])\n",
    "plt.plot(t_eval, strain_pred[:,2], label=f\"CD in optimized community:\\n{c_name}\", color='k', linestyle='--')\n",
    "#plt.fill_between(t_eval, strain_pred[:,4]-strain_stdv[:,4], strain_pred[:,4]+strain_stdv[:,4], color='k', alpha=0.2)\n",
    "\n",
    "#plt.plot(t_eval, obj_pred[:,4], label=f\"Robust\", color='k', linestyle='-')\n",
    "#plt.fill_between(t_eval, obj_pred[:,4]-obj_stdv[:,4], obj_pred[:,4]+obj_stdv[:,4], color='k', alpha=0.2)\n",
    "\n",
    "plt.legend()\n",
    "# plt.ylim([0, .3])\n",
    "\n",
    "plt.xlabel(\"Time (hr)\", fontsize=16)\n",
    "plt.ylabel(\"Abundance (OD)\", fontsize=16)\n",
    "    \n",
    "plt.tight_layout()\n",
    "# plt.savefig(\"cd_inhibition.pdf\", dpi=300)\n",
    "plt.show()"
   ]
  },
  {
   "cell_type": "code",
   "execution_count": 10,
   "id": "1daf828a",
   "metadata": {},
   "outputs": [],
   "source": [
    "# highlight \n",
    "# C1: CH-CS-DP + CD"
   ]
  },
  {
   "cell_type": "code",
   "execution_count": 11,
   "id": "0322ccaf",
   "metadata": {},
   "outputs": [
    {
     "data": {
      "text/plain": [
       "array(['CD', 'CH', 'CS', 'DP'], dtype=object)"
      ]
     },
     "execution_count": 11,
     "metadata": {},
     "output_type": "execute_result"
    }
   ],
   "source": [
    "comm1_inds = [2, 3, 5, 7]\n",
    "species[comm1_inds]"
   ]
  },
  {
   "cell_type": "code",
   "execution_count": 12,
   "id": "88fb8a0f",
   "metadata": {},
   "outputs": [],
   "source": [
    "comm1_ind = np.argmax(np.sum(X[:, comm1_inds] > 0, 1))"
   ]
  },
  {
   "cell_type": "code",
   "execution_count": 13,
   "id": "408633da",
   "metadata": {},
   "outputs": [
    {
     "data": {
      "text/plain": [
       "0.13635828"
      ]
     },
     "execution_count": 13,
     "metadata": {},
     "output_type": "execute_result"
    }
   ],
   "source": [
    "objectives[comm1_ind]"
   ]
  },
  {
   "cell_type": "code",
   "execution_count": 14,
   "id": "fe8f6793",
   "metadata": {},
   "outputs": [
    {
     "data": {
      "text/plain": [
       "array(['CD', 'BU', 'CA', 'DP'], dtype=object)"
      ]
     },
     "execution_count": 14,
     "metadata": {},
     "output_type": "execute_result"
    }
   ],
   "source": [
    "# C2: BU-CA-DP + CD\n",
    "comm2_inds = [2, 4, 6, 7]\n",
    "species[comm2_inds]"
   ]
  },
  {
   "cell_type": "code",
   "execution_count": 15,
   "id": "fc0b5455",
   "metadata": {},
   "outputs": [],
   "source": [
    "comm2_ind = np.argmax(np.sum(X[:, comm2_inds] > 0, 1))"
   ]
  },
  {
   "cell_type": "code",
   "execution_count": 16,
   "id": "7c09835a",
   "metadata": {},
   "outputs": [
    {
     "data": {
      "text/plain": [
       "0.5372763"
      ]
     },
     "execution_count": 16,
     "metadata": {},
     "output_type": "execute_result"
    }
   ],
   "source": [
    "objectives[comm2_ind]"
   ]
  },
  {
   "cell_type": "code",
   "execution_count": 17,
   "id": "6870c431",
   "metadata": {},
   "outputs": [],
   "source": [
    "comm_names = [\"CD+\"+comm_name(sp_names[x0 > 0]) for x0 in X]\n",
    "richness = np.sum(X > 0, 1)\n",
    "df_opt = pd.DataFrame()\n",
    "df_opt[\"Comms\"] = comm_names\n",
    "df_opt[\"Richness\"] = richness\n",
    "df_opt[\"CD OD\"] = objectives\n",
    "df_opt.to_csv(\"opt/df_gLV_DSM_growth.csv\", index=False)"
   ]
  },
  {
   "cell_type": "code",
   "execution_count": 19,
   "id": "0ff8b682",
   "metadata": {},
   "outputs": [
    {
     "data": {
      "image/png": "[encoded data removed]",
      "text/plain": [
       "<Figure size 640x480 with 1 Axes>"
      ]
     },
     "metadata": {},
     "output_type": "display_data"
    }
   ],
   "source": [
    "plt.scatter(np.sum(X > 0, 1), objectives)\n",
    "plt.scatter(np.sum(X[comm1_ind]>0), objectives[comm1_ind], edgecolor='k', s=70, label=\"CH,CS,DP\")\n",
    "plt.scatter(np.sum(X[comm2_ind]>0), objectives[comm2_ind], edgecolor='k', s=70, label=\"BU,CA,DP\")\n",
    "\n",
    "plt.legend(loc='center left')\n",
    "plt.xlabel(\"Number of species in community\")\n",
    "plt.ylabel(\"Predicted 24hr CD OD\")\n",
    "plt.savefig(\"figures/CDreduction_vs_richness_DSM.pdf\", dpi=300)\n",
    "plt.show()"
   ]
  }
 ],
 "metadata": {
  "kernelspec": {
   "display_name": "Python 3 (ipykernel)",
   "language": "python",
   "name": "python3"
  },
  "language_info": {
   "codemirror_mode": {
    "name": "ipython",
    "version": 3
   },
   "file_extension": ".py",
   "mimetype": "text/x-python",
   "name": "python",
   "nbconvert_exporter": "python",
   "pygments_lexer": "ipython3",
   "version": "3.11.3"
  }
 },
 "nbformat": 4,
 "nbformat_minor": 5
}
