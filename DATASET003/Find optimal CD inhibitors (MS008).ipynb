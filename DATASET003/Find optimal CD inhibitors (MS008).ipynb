{
 "cells": [
  {
   "cell_type": "code",
   "execution_count": 1,
   "id": "a637f20e",
   "metadata": {},
   "outputs": [
    {
     "name": "stderr",
     "output_type": "stream",
     "text": [
      "Matplotlib created a temporary config/cache directory at /tmp/matplotlib-d1ezz6f_ because the default path (/home/jaron/.cache/matplotlib) is not a writable directory; it is highly recommended to set the MPLCONFIGDIR environment variable to a writable directory, in particular to speed up the import of Matplotlib and to better support multiprocessing.\n",
      "<frozen importlib._bootstrap>:228: RuntimeWarning: scipy._lib.messagestream.MessageStream size changed, may indicate binary incompatibility. Expected 56 from C header, got 64 from PyObject\n"
     ]
    }
   ],
   "source": [
    "import pandas as pd\n",
    "import numpy as np\n",
    "import matplotlib.pyplot as plt \n",
    "from scipy.stats import norm\n",
    "\n",
    "import os\n",
    "import time\n",
    "import itertools\n",
    "\n",
    "from glove.model import *"
   ]
  },
  {
   "cell_type": "markdown",
   "id": "e35f0bf8",
   "metadata": {},
   "source": [
    "# Combine data sets"
   ]
  },
  {
   "cell_type": "code",
   "execution_count": 2,
   "id": "bfe6b9d6",
   "metadata": {},
   "outputs": [],
   "source": [
    "# import data\n",
    "df19 = pd.read_csv(\"data/EXP0019_MS008_processed.csv\")\n",
    "df24 = pd.read_csv(\"data/MS008.csv\")\n",
    "dfun = pd.read_csv(\"data/Universal.csv\")\n",
    "\n",
    "# combine and sort\n",
    "df = pd.concat((df19, df24, dfun))\n",
    "df.sort_values(by=[\"Treatments\", \"Time\"], inplace=True)"
   ]
  },
  {
   "cell_type": "markdown",
   "id": "8f66f683",
   "metadata": {},
   "source": [
    "# fit gLV models"
   ]
  },
  {
   "cell_type": "code",
   "execution_count": 3,
   "id": "9af71ae6",
   "metadata": {
    "scrolled": true
   },
   "outputs": [
    {
     "name": "stdout",
     "output_type": "stream",
     "text": [
      "Total samples: 90, Initial regularization: 0.00e+00\n",
      "Loss: 20.519, Residuals: -0.130\n",
      "Loss: 12.660, Residuals: -0.028\n",
      "Loss: 9.869, Residuals: -0.030\n",
      "Loss: 8.773, Residuals: 0.100\n",
      "Loss: 7.242, Residuals: 0.036\n",
      "Loss: 7.014, Residuals: 0.088\n",
      "Loss: 6.634, Residuals: 0.056\n",
      "Loss: 6.196, Residuals: 0.018\n",
      "Loss: 6.082, Residuals: 0.028\n",
      "Loss: 5.908, Residuals: 0.011\n",
      "Loss: 5.759, Residuals: -0.005\n",
      "Loss: 5.751, Residuals: -0.000\n",
      "Loss: 5.692, Residuals: -0.009\n",
      "Loss: 5.686, Residuals: -0.010\n",
      "Loss: 5.674, Residuals: -0.011\n",
      "Loss: 5.652, Residuals: -0.014\n",
      "Loss: 5.620, Residuals: -0.020\n",
      "Loss: 5.619, Residuals: -0.015\n",
      "Loss: 5.617, Residuals: -0.016\n",
      "Loss: 5.602, Residuals: -0.021\n",
      "Loss: 5.600, Residuals: -0.021\n",
      "Loss: 5.595, Residuals: -0.022\n",
      "Loss: 5.588, Residuals: -0.024\n",
      "Loss: 5.588, Residuals: -0.025\n",
      "Loss: 5.587, Residuals: -0.025\n",
      "Loss: 5.587, Residuals: -0.026\n",
      "Loss: 5.585, Residuals: -0.026\n",
      "Loss: 5.584, Residuals: -0.027\n",
      "Loss: 5.584, Residuals: -0.027\n",
      "Loss: 5.581, Residuals: -0.028\n",
      "Loss: 5.581, Residuals: -0.028\n",
      "Loss: 5.581, Residuals: -0.028\n",
      "Loss: 5.579, Residuals: -0.028\n",
      "Loss: 5.579, Residuals: -0.028\n",
      "Loss: 5.577, Residuals: -0.028\n",
      "Loss: 5.577, Residuals: -0.028\n",
      "Loss: 5.575, Residuals: -0.029\n",
      "Loss: 5.575, Residuals: -0.029\n",
      "Loss: 5.574, Residuals: -0.029\n",
      "Loss: 5.574, Residuals: -0.029\n",
      "Loss: 5.573, Residuals: -0.030\n",
      "Loss: 5.573, Residuals: -0.030\n",
      "Loss: 5.573, Residuals: -0.031\n",
      "Loss: 5.572, Residuals: -0.031\n",
      "Loss: 5.572, Residuals: -0.031\n",
      "Loss: 5.572, Residuals: -0.031\n",
      "Loss: 5.571, Residuals: -0.031\n",
      "Loss: 5.571, Residuals: -0.031\n",
      "Loss: 5.571, Residuals: -0.031\n",
      "Loss: 5.571, Residuals: -0.031\n",
      "Loss: 5.570, Residuals: -0.032\n",
      "Loss: 5.570, Residuals: -0.032\n",
      "Loss: 5.569, Residuals: -0.032\n",
      "Loss: 5.569, Residuals: -0.032\n",
      "Loss: 5.569, Residuals: -0.032\n",
      "Loss: 5.569, Residuals: -0.032\n",
      "Loss: 5.569, Residuals: -0.032\n",
      "Loss: 5.569, Residuals: -0.032\n",
      "Loss: 5.569, Residuals: -0.032\n",
      "Loss: 5.568, Residuals: -0.033\n",
      "Loss: 5.568, Residuals: -0.033\n",
      "Loss: 5.568, Residuals: -0.033\n",
      "Loss: 5.568, Residuals: -0.033\n",
      "Loss: 5.568, Residuals: -0.033\n",
      "Loss: 5.568, Residuals: -0.033\n",
      "Loss: 5.568, Residuals: -0.033\n",
      "Loss: 5.568, Residuals: -0.033\n",
      "Loss: 5.568, Residuals: -0.033\n",
      "Loss: 5.568, Residuals: -0.033\n",
      "Loss: 5.568, Residuals: -0.034\n",
      "Loss: 5.568, Residuals: -0.034\n",
      "Loss: 5.568, Residuals: -0.034\n",
      "Loss: 5.568, Residuals: -0.034\n",
      "Loss: 5.568, Residuals: -0.034\n",
      "Loss: 5.568, Residuals: -0.034\n",
      "Loss: 5.568, Residuals: -0.034\n",
      "Loss: 5.568, Residuals: -0.034\n",
      "Loss: 5.568, Residuals: -0.034\n",
      "Loss: 5.568, Residuals: -0.034\n",
      "Loss: 5.568, Residuals: -0.034\n",
      "Loss: 5.568, Residuals: -0.034\n",
      "Loss: 5.568, Residuals: -0.034\n",
      "Loss: 5.568, Residuals: -0.034\n",
      "Warning: Desired error not necessarily achieved due to precision loss.\n",
      "Evidence -56.427\n",
      "Updating hyper-parameters...\n",
      "Total samples: 90, Updated regularization: 2.88e-01\n",
      "Loss: 104.527, Residuals: -0.025\n",
      "Loss: 102.655, Residuals: -0.010\n",
      "Loss: 100.703, Residuals: 0.004\n",
      "Loss: 100.465, Residuals: 0.001\n",
      "Optimization terminated successfully.\n",
      "Evidence 828.655\n",
      "Updating hyper-parameters...\n",
      "Total samples: 90, Updated regularization: 2.35e-01\n",
      "Loss: 273.376, Residuals: 0.002\n",
      "Loss: 272.729, Residuals: 0.001\n",
      "Loss: 272.363, Residuals: 0.002\n",
      "Loss: 272.313, Residuals: 0.002\n",
      "Loss: 272.218, Residuals: 0.002\n",
      "Loss: 272.052, Residuals: 0.003\n",
      "Loss: 271.977, Residuals: 0.003\n",
      "Loss: 271.973, Residuals: 0.003\n",
      "Optimization terminated successfully.\n",
      "Evidence 1066.195\n",
      "Updating hyper-parameters...\n",
      "Total samples: 90, Updated regularization: 2.72e-01\n",
      "Loss: 342.725, Residuals: 0.004\n",
      "Loss: 342.489, Residuals: 0.001\n",
      "Loss: 342.369, Residuals: 0.001\n",
      "Loss: 342.349, Residuals: 0.001\n",
      "Loss: 342.311, Residuals: 0.001\n",
      "Loss: 342.243, Residuals: 0.001\n",
      "Loss: 342.207, Residuals: 0.001\n",
      "Loss: 342.202, Residuals: 0.001\n",
      "Loss: 342.158, Residuals: 0.001\n",
      "Loss: 342.157, Residuals: 0.001\n",
      "Optimization terminated successfully.\n",
      "Evidence 1088.783\n",
      "Updating hyper-parameters...\n",
      "Total samples: 90, Updated regularization: 3.03e-01\n",
      "Loss: 354.152, Residuals: 0.002\n",
      "Loss: 354.069, Residuals: 0.001\n",
      "Loss: 354.000, Residuals: 0.000\n",
      "Loss: 353.996, Residuals: 0.000\n",
      "Optimization terminated successfully.\n",
      "Evidence 1091.570\n",
      "Updating hyper-parameters...\n",
      "Total samples: 90, Updated regularization: 3.08e-01\n",
      "Loss: 356.280, Residuals: 0.000\n",
      "Loss: 356.207, Residuals: 0.000\n",
      "Loss: 356.111, Residuals: 0.000\n",
      "Loss: 356.107, Residuals: 0.000\n",
      "Optimization terminated successfully.\n",
      "Evidence 1092.251\n",
      "Pass count  1\n",
      "Elapsed time 124.24s\n"
     ]
    }
   ],
   "source": [
    "# determine species names \n",
    "species = df.columns.values[2:]\n",
    "\n",
    "# instantiate gLV fit \n",
    "model = gLV(species, df) \n",
    "\n",
    "# fit to data \n",
    "t0 = time.time()\n",
    "model.fit()\n",
    "print(\"Elapsed time {:.2f}s\".format(time.time()-t0))"
   ]
  },
  {
   "cell_type": "code",
   "execution_count": 4,
   "id": "f0737fb5",
   "metadata": {},
   "outputs": [
    {
     "data": {
      "text/plain": [
       "array(['BT', 'BV', 'CD', 'CH', 'BU', 'CS', 'CA', 'DP'], dtype=object)"
      ]
     },
     "execution_count": 4,
     "metadata": {},
     "output_type": "execute_result"
    }
   ],
   "source": [
    "sp_names = df.columns.values[2:]\n",
    "cd_ind = list(sp_names).index(\"CD\")\n",
    "sp_names"
   ]
  },
  {
   "cell_type": "code",
   "execution_count": 5,
   "id": "759c9a08",
   "metadata": {},
   "outputs": [],
   "source": [
    "# define design space to search for CD inhibiting communities\n",
    "# create matrix of all possible communities\n",
    "numspecies = len(sp_names) \n",
    "X = np.array([np.reshape(np.array(i), (1, numspecies)) for i in itertools.product([0, 1], repeat = numspecies)])\n",
    "X = np.squeeze(X, 1)\n",
    "\n",
    "# only keep combinations that have CD \n",
    "CD_inds = X[:, cd_ind] > 0\n",
    "X = X[CD_inds]\n",
    "\n",
    "# normalize so that sum of OD is .01\n",
    "X = (.01 * X.T / np.sum(X, 1)).T\n",
    "\n",
    "# define evaluation times\n",
    "t_eval = np.linspace(0, 24)"
   ]
  },
  {
   "cell_type": "code",
   "execution_count": 6,
   "id": "bab0006f",
   "metadata": {},
   "outputs": [
    {
     "data": {
      "text/plain": [
       "9.676477555413634"
      ]
     },
     "execution_count": 6,
     "metadata": {},
     "output_type": "execute_result"
    }
   ],
   "source": [
    "# determine AUC of CD in mono-culture\n",
    "comm_pred, comm_stdv = model.predict(X[0], t_eval)\n",
    "cd_pred = comm_pred[:, cd_ind]\n",
    "\n",
    "AUC = np.trapz(y=cd_pred, x=t_eval)\n",
    "AUC"
   ]
  },
  {
   "cell_type": "code",
   "execution_count": 7,
   "id": "0d3f8fae",
   "metadata": {},
   "outputs": [],
   "source": [
    "# define objective to compute AUC of CD given a community\n",
    "def objective(comm, t_eval):\n",
    "    # compute AUC in each comm\n",
    "    comm_pred, comm_stdv = model.predict(comm, t_eval)\n",
    "    cd_pred = comm_pred[:, cd_ind]\n",
    "    cd_stdv = comm_stdv[:, cd_ind]\n",
    "        \n",
    "    # objective is the amount that CD was reduced compared to mono culture\n",
    "    obj = AUC - np.trapz(y=cd_pred, x=t_eval)\n",
    "        \n",
    "    return obj"
   ]
  },
  {
   "cell_type": "code",
   "execution_count": 8,
   "id": "49a146ad",
   "metadata": {},
   "outputs": [],
   "source": [
    "# compute objectives for every initial condition \n",
    "objectives = np.array([objective(x, t_eval) for x in X])"
   ]
  },
  {
   "cell_type": "code",
   "execution_count": 9,
   "id": "0c01caff",
   "metadata": {},
   "outputs": [],
   "source": [
    "def comm_name(present_species):\n",
    "    c_name = \"\"\n",
    "    for p_s in present_species:\n",
    "        if p_s != 'CD':\n",
    "            c_name += p_s + \"-\"\n",
    "    return c_name[:-1]"
   ]
  },
  {
   "cell_type": "code",
   "execution_count": 10,
   "id": "8e10bb0a",
   "metadata": {
    "scrolled": true
   },
   "outputs": [
    {
     "data": {
      "image/png": "[encoded data removed]",
      "text/plain": [
       "<Figure size 640x480 with 1 Axes>"
      ]
     },
     "metadata": {},
     "output_type": "display_data"
    }
   ],
   "source": [
    "# compute strain specific objectives\n",
    "mono_pred, mono_stdv = model.predict(X[0], t_eval)\n",
    "strain_pred, strain_stdv = model.predict(X[np.argmax(objectives)], t_eval)\n",
    "\n",
    "plt.plot(t_eval, mono_pred[:,2], label=f\"CD in monoculture\", color='k', linestyle='-')\n",
    "#plt.fill_between(t_eval, full_pred[:,4]-full_stdv[:,4], full_pred[:,4]+full_stdv[:,4], color='k', alpha=0.2)\n",
    "\n",
    "c_name = comm_name(sp_names[X[np.argmax(objectives)] > 0])\n",
    "plt.plot(t_eval, strain_pred[:,2], label=f\"CD in optimized community:\\n{c_name}\", color='k', linestyle='--')\n",
    "#plt.fill_between(t_eval, strain_pred[:,4]-strain_stdv[:,4], strain_pred[:,4]+strain_stdv[:,4], color='k', alpha=0.2)\n",
    "\n",
    "#plt.plot(t_eval, obj_pred[:,4], label=f\"Robust\", color='k', linestyle='-')\n",
    "#plt.fill_between(t_eval, obj_pred[:,4]-obj_stdv[:,4], obj_pred[:,4]+obj_stdv[:,4], color='k', alpha=0.2)\n",
    "\n",
    "plt.legend()\n",
    "# plt.ylim([0, .3])\n",
    "\n",
    "plt.xlabel(\"Time (hr)\", fontsize=16)\n",
    "plt.ylabel(\"Abundance (OD)\", fontsize=16)\n",
    "    \n",
    "plt.tight_layout()\n",
    "# plt.savefig(\"cd_inhibition.pdf\", dpi=300)\n",
    "plt.show()"
   ]
  },
  {
   "cell_type": "code",
   "execution_count": 11,
   "id": "1daf828a",
   "metadata": {},
   "outputs": [],
   "source": [
    "# highlight \n",
    "# C1: CH-CS-DP + CD"
   ]
  },
  {
   "cell_type": "code",
   "execution_count": 12,
   "id": "0322ccaf",
   "metadata": {},
   "outputs": [
    {
     "data": {
      "text/plain": [
       "array(['CD', 'CH', 'CS', 'DP'], dtype=object)"
      ]
     },
     "execution_count": 12,
     "metadata": {},
     "output_type": "execute_result"
    }
   ],
   "source": [
    "comm1_inds = [2, 3, 5, 7]\n",
    "species[comm1_inds]"
   ]
  },
  {
   "cell_type": "code",
   "execution_count": 13,
   "id": "88fb8a0f",
   "metadata": {},
   "outputs": [],
   "source": [
    "comm1_ind = np.argmax(np.sum(X[:, comm1_inds] > 0, 1))"
   ]
  },
  {
   "cell_type": "code",
   "execution_count": 14,
   "id": "408633da",
   "metadata": {},
   "outputs": [
    {
     "data": {
      "text/plain": [
       "4.1943827309474635"
      ]
     },
     "execution_count": 14,
     "metadata": {},
     "output_type": "execute_result"
    }
   ],
   "source": [
    "objectives[comm1_ind]"
   ]
  },
  {
   "cell_type": "code",
   "execution_count": 15,
   "id": "fe8f6793",
   "metadata": {},
   "outputs": [
    {
     "data": {
      "text/plain": [
       "array(['CD', 'BU', 'CA', 'DP'], dtype=object)"
      ]
     },
     "execution_count": 15,
     "metadata": {},
     "output_type": "execute_result"
    }
   ],
   "source": [
    "# C2: BU-CA-DP + CD\n",
    "comm2_inds = [2, 4, 6, 7]\n",
    "species[comm2_inds]"
   ]
  },
  {
   "cell_type": "code",
   "execution_count": 16,
   "id": "fc0b5455",
   "metadata": {},
   "outputs": [],
   "source": [
    "comm2_ind = np.argmax(np.sum(X[:, comm2_inds] > 0, 1))"
   ]
  },
  {
   "cell_type": "code",
   "execution_count": 17,
   "id": "7c09835a",
   "metadata": {},
   "outputs": [
    {
     "data": {
      "text/plain": [
       "0.18041778447068246"
      ]
     },
     "execution_count": 17,
     "metadata": {},
     "output_type": "execute_result"
    }
   ],
   "source": [
    "objectives[comm2_ind]"
   ]
  },
  {
   "cell_type": "code",
   "execution_count": 18,
   "id": "6870c431",
   "metadata": {},
   "outputs": [],
   "source": [
    "comm_names = [\"CD+\"+comm_name(sp_names[x0 > 0]) for x0 in X]\n",
    "richness = np.sum(X > 0, 1)\n",
    "df_opt = pd.DataFrame()\n",
    "df_opt[\"Comms\"] = comm_names\n",
    "df_opt[\"Richness\"] = richness\n",
    "df_opt[\"Objective\"] = objectives\n",
    "df_opt.to_csv(\"opt/df_gLV_MS008.csv\", index=False)"
   ]
  },
  {
   "cell_type": "code",
   "execution_count": 19,
   "id": "0ff8b682",
   "metadata": {},
   "outputs": [
    {
     "data": {
      "image/png": "[encoded data removed]",
      "text/plain": [
       "<Figure size 640x480 with 1 Axes>"
      ]
     },
     "metadata": {},
     "output_type": "display_data"
    }
   ],
   "source": [
    "plt.scatter(np.sum(X > 0, 1), objectives)\n",
    "plt.scatter(np.sum(X[comm1_ind]>0), objectives[comm1_ind], edgecolor='k', s=70, label=\"CH,CS,DP\")\n",
    "plt.scatter(np.sum(X[comm2_ind]>0), objectives[comm2_ind], edgecolor='k', s=70, label=\"BU,CA,DP\")\n",
    "\n",
    "plt.legend(loc='center left')\n",
    "plt.xlabel(\"Number of species in community\")\n",
    "plt.ylabel(\"Reduction in CD compared to mono-culture\")\n",
    "plt.savefig(\"figures/CDreduction_vs_richness_MS008.pdf\", dpi=300)\n",
    "plt.show()"
   ]
  }
 ],
 "metadata": {
  "kernelspec": {
   "display_name": "Python 3 (ipykernel)",
   "language": "python",
   "name": "python3"
  },
  "language_info": {
   "codemirror_mode": {
    "name": "ipython",
    "version": 3
   },
   "file_extension": ".py",
   "mimetype": "text/x-python",
   "name": "python",
   "nbconvert_exporter": "python",
   "pygments_lexer": "ipython3",
   "version": "3.9.16"
  }
 },
 "nbformat": 4,
 "nbformat_minor": 5
}
