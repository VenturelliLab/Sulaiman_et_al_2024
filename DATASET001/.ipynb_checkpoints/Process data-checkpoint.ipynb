{
 "cells": [
  {
   "cell_type": "code",
   "execution_count": 1,
   "id": "a637f20e",
   "metadata": {},
   "outputs": [],
   "source": [
    "import pandas as pd\n",
    "import numpy as np\n",
    "import matplotlib.pyplot as plt \n",
    "from scipy.stats import norm\n",
    "\n",
    "import os\n",
    "import time\n",
    "import itertools"
   ]
  },
  {
   "cell_type": "markdown",
   "id": "9794ea88",
   "metadata": {},
   "source": [
    "# Import raw data file names"
   ]
  },
  {
   "cell_type": "code",
   "execution_count": 2,
   "id": "c222de39",
   "metadata": {},
   "outputs": [
    {
     "data": {
      "text/plain": [
       "['EXP0012_P2_MS001_12h.xlsx',\n",
       " 'EXP0012_P1_DSM_24h.xlsx',\n",
       " 'EXP0012_P2_MS001_24h.xlsx',\n",
       " 'EXP0012_P5_UNIV_24h.xlsx',\n",
       " 'EXP0012_P4_MS014_12h.xlsx',\n",
       " 'EXP0012_P3_MS008_12h.xlsx',\n",
       " 'EXP0012_P1_DSM_12h.xlsx',\n",
       " 'EXP0012_P5_UNIV_12h.xlsx',\n",
       " 'EXP0012_P4_MS014_24h.xlsx',\n",
       " 'EXP0012_P3_MS008_24h.xlsx']"
      ]
     },
     "execution_count": 2,
     "metadata": {},
     "output_type": "execute_result"
    }
   ],
   "source": [
    "# import file names\n",
    "files = os.listdir(\"data/\")\n",
    "files = [f for f in files if \"EXP0012\" in f]\n",
    "files"
   ]
  },
  {
   "cell_type": "markdown",
   "id": "787e0711",
   "metadata": {},
   "source": [
    "# Preprocess data"
   ]
  },
  {
   "cell_type": "code",
   "execution_count": 3,
   "id": "2dcbe534",
   "metadata": {},
   "outputs": [],
   "source": [
    "# columns with species absolute abundance\n",
    "sp_names = [\"CA\", \"BT\", \"BU\", \"CS\", \"CD\", \"DP\", \"CH\", \"BV\"]\n",
    "sp_abs_abundance = [\"Abs \" + sp for sp in sp_names]\n",
    "n_species = len(sp_names)\n",
    "\n",
    "# list of parameter names \n",
    "param_names = []\n",
    "for s1 in sp_names:\n",
    "    for s2 in sp_names:\n",
    "        param_names += [s1+\"*\"+s2]\n",
    "param_names = sp_names + param_names\n",
    "\n",
    "def get_ic(exp_name):\n",
    "    # function to compute initial condition for samples with Cdiff\n",
    "\n",
    "    # determine which species were in the experiment\n",
    "    sp_exp = exp_name.split(\"-\")[1:] + [\"CD\"]\n",
    "    \n",
    "    # determine inoculation condition \n",
    "    present = np.array(np.in1d(sp_names, sp_exp), int)\n",
    "\n",
    "    # compute initial inoculation abundance \n",
    "    ic = present / sum(present) * .01\n",
    "    return ic\n",
    "\n",
    "def get_univ_ic(exp_name):\n",
    "    # function to compute initial condition for samples without Cdiff\n",
    "\n",
    "    # determine which species were in the experiment\n",
    "    sp_exp = exp_name.split(\"-\")\n",
    "    \n",
    "    # determine inoculation condition \n",
    "    present = np.array(np.in1d(sp_names, sp_exp), int)\n",
    "\n",
    "    # compute initial inoculation abundance \n",
    "    ic = present / sum(present) * .01\n",
    "    return ic\n",
    "\n",
    "# loop through plates to add \n",
    "for i in range(1, 5):\n",
    "    # determine set of dataframes for each strain\n",
    "    strain_files = np.sort([f for f in files if f\"P{i}\" in f])\n",
    "    \n",
    "    # make sure that the first file corresponds to the 12h measurement\n",
    "    assert strain_files[0].split(\"_\")[-1].split(\".\")[0] == '12h', \"Incorrect order of time points\"\n",
    "\n",
    "    # add strain specific samples\n",
    "    # 12 and 24 hour data \n",
    "    df_12 = pd.read_excel(f\"data/{strain_files[0]}\").dropna()\n",
    "    df_24 = pd.read_excel(f\"data/{strain_files[1]}\").dropna()\n",
    "    \n",
    "    # store data into dataframe\n",
    "    df_strain = pd.DataFrame()\n",
    "    for (name_12, df_12_i), (name_24, df_24_i) in zip(df_12.groupby(\"Combination\"), df_24.groupby(\"Combination\")):\n",
    "        \n",
    "        ic = get_ic(name_12)\n",
    "        exp_data = np.stack([ic, np.mean(df_12_i[sp_abs_abundance].values, 0), np.mean(df_24_i[sp_abs_abundance].values, 0)])\n",
    "        df_exp = pd.DataFrame()\n",
    "        df_exp[\"Treatments\"] = [name_12]*3 \n",
    "        df_exp[\"Time\"] = np.array([0, 12, 24], float)\n",
    "        df_exp[sp_names] = exp_data\n",
    "        \n",
    "        df_strain = pd.concat((df_strain, df_exp))\n",
    "        \n",
    "    # add universal data samples\n",
    "    # 12 and 24 hour data \n",
    "    df_12 = pd.read_excel(f\"data/EXP0012_P5_UNIV_12h.xlsx\").dropna()\n",
    "    df_24 = pd.read_excel(f\"data/EXP0012_P5_UNIV_24h.xlsx\").dropna()\n",
    "    \n",
    "    # store data into dataframe\n",
    "    for (name_12, df_12_i), (name_24, df_24_i) in zip(df_12.groupby(\"Combination\"), df_24.groupby(\"Combination\")):\n",
    "        \n",
    "        # make sure experimental conditions are the same at each time point \n",
    "        assert name_12 == name_24, \"Incorrect experimental conditions at time points\"\n",
    "        \n",
    "        ic = get_univ_ic(name_12)\n",
    "        exp_data = np.stack([ic, np.mean(df_12_i[sp_abs_abundance].values, 0), np.mean(df_24_i[sp_abs_abundance].values, 0)])\n",
    "        df_exp = pd.DataFrame()\n",
    "        df_exp[\"Treatments\"] = [name_12]*3 \n",
    "        df_exp[\"Time\"] = np.array([0, 12, 24], float)\n",
    "        df_exp[sp_names] = exp_data\n",
    "        \n",
    "        df_strain = pd.concat((df_strain, df_exp))\n",
    "        \n",
    "    # add monoculture data \n",
    "    strain = strain_files[0].split(\"_\")[-2]\n",
    "    df_mono = pd.read_excel(f\"data/Data_monoculture_community_{strain}_Jordy.xlsx\").fillna(0.).drop(columns=['EL'])\n",
    "\n",
    "    # replace specific name of strain with just CD\n",
    "    strain_name = df_mono.columns[~np.in1d(df_mono.columns, df_strain.columns)].item()\n",
    "    df_mono.rename(columns={strain_name:\"CD\"}, inplace=True)\n",
    "\n",
    "    # pull only monoculture data up to 24 hours\n",
    "    df_monos = []\n",
    "    for name, df in df_mono.groupby(\"Treatments\"): \n",
    "        if \"Mono\" in name:\n",
    "            t_eval = df.Time.values\n",
    "            df_monos.append(df.iloc[t_eval <= 24.])\n",
    "    df_mono = pd.concat(df_monos)\n",
    "\n",
    "    # append to data in right column order\n",
    "    df_strain = pd.concat([df_strain, df_mono[df_strain.columns]])\n",
    "        \n",
    "    # save dataframe\n",
    "    df_strain.to_csv(\"data/\"+strain_files[0].split(\"_\")[2]+\"_processed_mono.csv\", index=False)"
   ]
  }
 ],
 "metadata": {
  "kernelspec": {
   "display_name": "Python 3 (ipykernel)",
   "language": "python",
   "name": "python3"
  },
  "language_info": {
   "codemirror_mode": {
    "name": "ipython",
    "version": 3
   },
   "file_extension": ".py",
   "mimetype": "text/x-python",
   "name": "python",
   "nbconvert_exporter": "python",
   "pygments_lexer": "ipython3",
   "version": "3.9.13"
  }
 },
 "nbformat": 4,
 "nbformat_minor": 5
}
