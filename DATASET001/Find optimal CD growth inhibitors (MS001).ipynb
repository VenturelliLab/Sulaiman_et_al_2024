{
 "cells": [
  {
   "cell_type": "code",
   "execution_count": 1,
   "id": "a637f20e",
   "metadata": {},
   "outputs": [],
   "source": [
    "import pandas as pd\n",
    "import numpy as np\n",
    "import matplotlib.pyplot as plt \n",
    "from scipy.stats import norm\n",
    "\n",
    "import os\n",
    "import time\n",
    "import itertools\n",
    "\n",
    "from glove.model import *"
   ]
  },
  {
   "cell_type": "markdown",
   "id": "e35f0bf8",
   "metadata": {},
   "source": [
    "# Combine data sets"
   ]
  },
  {
   "cell_type": "code",
   "execution_count": 2,
   "id": "bfe6b9d6",
   "metadata": {},
   "outputs": [],
   "source": [
    "# import data\n",
    "df = pd.read_csv(\"data/MS001_processed_mono.csv\")\n",
    "df.sort_values(by=[\"Treatments\", \"Time\"], inplace=True)"
   ]
  },
  {
   "cell_type": "markdown",
   "id": "8f66f683",
   "metadata": {},
   "source": [
    "# fit gLV models"
   ]
  },
  {
   "cell_type": "code",
   "execution_count": 3,
   "id": "9af71ae6",
   "metadata": {
    "scrolled": true
   },
   "outputs": [
    {
     "name": "stderr",
     "output_type": "stream",
     "text": [
      "No GPU/TPU found, falling back to CPU. (Set TF_CPP_MIN_LOG_LEVEL=0 and rerun for more info.)\n"
     ]
    },
    {
     "name": "stdout",
     "output_type": "stream",
     "text": [
      "Total samples: 74, Initial regularization: 1.00e-03\n",
      "Loss: 9.699, Residuals: -0.379\n",
      "Loss: 4.636, Residuals: 0.029\n",
      "Loss: 3.038, Residuals: 0.065\n",
      "Loss: 2.808, Residuals: 0.006\n",
      "Loss: 2.509, Residuals: 0.013\n",
      "Loss: 2.146, Residuals: 0.021\n",
      "Loss: 2.103, Residuals: 0.040\n",
      "Loss: 2.023, Residuals: 0.037\n",
      "Loss: 1.897, Residuals: 0.031\n",
      "Loss: 1.873, Residuals: 0.028\n",
      "Loss: 1.832, Residuals: 0.022\n",
      "Loss: 1.769, Residuals: 0.012\n",
      "Loss: 1.762, Residuals: 0.018\n",
      "Loss: 1.750, Residuals: 0.015\n",
      "Loss: 1.728, Residuals: 0.010\n",
      "Loss: 1.724, Residuals: 0.012\n",
      "Loss: 1.715, Residuals: 0.009\n",
      "Loss: 1.702, Residuals: 0.002\n",
      "Loss: 1.701, Residuals: 0.002\n",
      "Loss: 1.696, Residuals: -0.002\n",
      "Loss: 1.694, Residuals: -0.002\n",
      "Loss: 1.692, Residuals: -0.004\n",
      "Loss: 1.687, Residuals: -0.008\n",
      "Loss: 1.687, Residuals: -0.007\n",
      "Loss: 1.687, Residuals: -0.008\n",
      "Loss: 1.684, Residuals: -0.010\n",
      "Loss: 1.684, Residuals: -0.010\n",
      "Loss: 1.683, Residuals: -0.010\n",
      "Loss: 1.682, Residuals: -0.011\n",
      "Loss: 1.680, Residuals: -0.014\n",
      "Loss: 1.680, Residuals: -0.014\n",
      "Loss: 1.679, Residuals: -0.014\n",
      "Loss: 1.679, Residuals: -0.015\n",
      "Loss: 1.678, Residuals: -0.016\n",
      "Loss: 1.678, Residuals: -0.017\n",
      "Loss: 1.678, Residuals: -0.017\n",
      "Loss: 1.677, Residuals: -0.017\n",
      "Loss: 1.677, Residuals: -0.018\n",
      "Loss: 1.677, Residuals: -0.018\n",
      "Loss: 1.677, Residuals: -0.018\n",
      "Loss: 1.677, Residuals: -0.018\n",
      "Loss: 1.677, Residuals: -0.018\n",
      "Loss: 1.677, Residuals: -0.018\n",
      "Loss: 1.677, Residuals: -0.018\n",
      "Loss: 1.677, Residuals: -0.019\n",
      "Loss: 1.677, Residuals: -0.019\n",
      "Loss: 1.677, Residuals: -0.019\n",
      "Loss: 1.677, Residuals: -0.019\n",
      "Loss: 1.677, Residuals: -0.019\n",
      "Loss: 1.677, Residuals: -0.019\n",
      "Loss: 1.677, Residuals: -0.019\n",
      "Loss: 1.677, Residuals: -0.019\n",
      "Loss: 1.677, Residuals: -0.019\n",
      "Loss: 1.677, Residuals: -0.019\n",
      "Loss: 1.677, Residuals: -0.019\n",
      "Loss: 1.677, Residuals: -0.019\n",
      "Loss: 1.677, Residuals: -0.019\n",
      "Loss: 1.677, Residuals: -0.020\n",
      "Loss: 1.677, Residuals: -0.021\n",
      "Loss: 1.677, Residuals: -0.021\n",
      "Loss: 1.676, Residuals: -0.021\n",
      "Loss: 1.676, Residuals: -0.021\n",
      "Loss: 1.672, Residuals: -0.019\n",
      "Loss: 1.672, Residuals: -0.020\n",
      "Loss: 1.672, Residuals: -0.020\n",
      "Loss: 1.671, Residuals: -0.021\n",
      "Loss: 1.667, Residuals: -0.021\n",
      "Loss: 1.667, Residuals: -0.021\n",
      "Loss: 1.664, Residuals: -0.021\n",
      "Loss: 1.664, Residuals: -0.021\n",
      "Loss: 1.661, Residuals: -0.022\n",
      "Loss: 1.660, Residuals: -0.022\n",
      "Loss: 1.659, Residuals: -0.022\n",
      "Loss: 1.656, Residuals: -0.022\n",
      "Loss: 1.656, Residuals: -0.021\n",
      "Loss: 1.654, Residuals: -0.022\n",
      "Loss: 1.653, Residuals: -0.022\n",
      "Loss: 1.652, Residuals: -0.022\n",
      "Loss: 1.651, Residuals: -0.023\n",
      "Loss: 1.651, Residuals: -0.022\n",
      "Loss: 1.650, Residuals: -0.022\n",
      "Loss: 1.650, Residuals: -0.022\n",
      "Loss: 1.650, Residuals: -0.022\n",
      "Loss: 1.649, Residuals: -0.022\n",
      "Loss: 1.649, Residuals: -0.023\n",
      "Loss: 1.649, Residuals: -0.023\n",
      "Loss: 1.649, Residuals: -0.023\n",
      "Loss: 1.649, Residuals: -0.022\n",
      "Loss: 1.649, Residuals: -0.023\n",
      "Loss: 1.649, Residuals: -0.023\n",
      "Loss: 1.649, Residuals: -0.022\n",
      "Loss: 1.649, Residuals: -0.022\n",
      "Loss: 1.649, Residuals: -0.022\n",
      "Loss: 1.649, Residuals: -0.022\n",
      "Loss: 1.649, Residuals: -0.022\n",
      "Loss: 1.649, Residuals: -0.022\n",
      "Warning: Desired error not necessarily achieved due to precision loss.\n",
      "Evidence -49.901\n",
      "Updating hyper-parameters...\n",
      "Total samples: 74, Updated regularization: 5.59e-01\n",
      "Loss: 35.919, Residuals: -0.011\n",
      "Loss: 34.790, Residuals: -0.000\n",
      "Loss: 34.743, Residuals: -0.002\n",
      "Loss: 34.651, Residuals: -0.001\n",
      "Loss: 34.488, Residuals: 0.002\n",
      "Loss: 34.256, Residuals: 0.007\n",
      "Loss: 34.241, Residuals: 0.007\n",
      "Loss: 34.115, Residuals: 0.008\n",
      "Loss: 34.113, Residuals: 0.007\n",
      "Optimization terminated successfully.\n",
      "Evidence 727.047\n",
      "Updating hyper-parameters...\n",
      "Total samples: 74, Updated regularization: 5.96e-01\n",
      "Loss: 146.728, Residuals: 0.010\n",
      "Optimization terminated successfully.\n",
      "Evidence 1119.560\n",
      "Updating hyper-parameters...\n",
      "Total samples: 74, Updated regularization: 7.72e-01\n",
      "Loss: 255.665, Residuals: 0.004\n",
      "Loss: 252.847, Residuals: 0.006\n",
      "Loss: 252.022, Residuals: 0.003\n",
      "Loss: 251.035, Residuals: -0.000\n",
      "Loss: 250.952, Residuals: -0.002\n",
      "Loss: 250.802, Residuals: -0.003\n",
      "Loss: 250.587, Residuals: -0.003\n",
      "Loss: 250.580, Residuals: -0.002\n",
      "Optimization terminated successfully.\n",
      "Evidence 1204.243\n",
      "Updating hyper-parameters...\n",
      "Total samples: 74, Updated regularization: 7.92e-01\n",
      "Loss: 284.552, Residuals: -0.004\n",
      "Loss: 284.068, Residuals: -0.008\n",
      "Loss: 283.788, Residuals: -0.008\n",
      "Loss: 283.744, Residuals: -0.007\n",
      "Loss: 283.662, Residuals: -0.008\n",
      "Loss: 283.523, Residuals: -0.009\n",
      "Loss: 283.517, Residuals: -0.009\n",
      "Optimization terminated successfully.\n",
      "Evidence 1217.598\n",
      "Updating hyper-parameters...\n",
      "Total samples: 74, Updated regularization: 7.90e-01\n",
      "Loss: 291.113, Residuals: -0.008\n",
      "Loss: 290.897, Residuals: -0.010\n",
      "Loss: 290.714, Residuals: -0.012\n",
      "Loss: 290.701, Residuals: -0.012\n",
      "Optimization terminated successfully.\n",
      "Evidence 1220.542\n",
      "Updating hyper-parameters...\n",
      "Total samples: 74, Updated regularization: 7.88e-01\n",
      "Loss: 292.733, Residuals: -0.012\n",
      "Optimization terminated successfully.\n",
      "Evidence 1221.684\n",
      "Pass count  1\n",
      "Elapsed time 46.10s\n"
     ]
    }
   ],
   "source": [
    "# determine species names \n",
    "species = df.columns.values[2:]\n",
    "\n",
    "# instantiate gLV fit \n",
    "model = gLV(species, df) \n",
    "\n",
    "# fit to data \n",
    "t0 = time.time()\n",
    "model.fit()\n",
    "print(\"Elapsed time {:.2f}s\".format(time.time()-t0))"
   ]
  },
  {
   "cell_type": "code",
   "execution_count": 4,
   "id": "f0737fb5",
   "metadata": {},
   "outputs": [
    {
     "data": {
      "text/plain": [
       "array(['CA', 'BT', 'BU', 'CS', 'CD', 'DP', 'CH', 'BV'], dtype=object)"
      ]
     },
     "execution_count": 4,
     "metadata": {},
     "output_type": "execute_result"
    }
   ],
   "source": [
    "sp_names = df.columns.values[2:]\n",
    "cd_ind = list(sp_names).index(\"CD\")\n",
    "sp_names"
   ]
  },
  {
   "cell_type": "code",
   "execution_count": 5,
   "id": "759c9a08",
   "metadata": {},
   "outputs": [],
   "source": [
    "# define design space to search for CD inhibiting communities\n",
    "# create matrix of all possible communities\n",
    "numspecies = len(sp_names) \n",
    "X = np.array([np.reshape(np.array(i), (1, numspecies)) for i in itertools.product([0, 1], repeat = numspecies)])\n",
    "X = np.squeeze(X, 1)\n",
    "\n",
    "# only keep combinations that have CD \n",
    "CD_inds = X[:, cd_ind] > 0\n",
    "X = X[CD_inds]\n",
    "\n",
    "# normalize so that sum of OD is .01\n",
    "X = (.01 * X.T / np.sum(X, 1)).T\n",
    "\n",
    "# define evaluation times\n",
    "t_eval = np.linspace(0, 24)"
   ]
  },
  {
   "cell_type": "code",
   "execution_count": 6,
   "id": "0d3f8fae",
   "metadata": {},
   "outputs": [],
   "source": [
    "# define objective to compute 24hr CD given a community\n",
    "def objective(comm, t_eval):\n",
    "    # predict CD in each comm\n",
    "    comm_pred, comm_stdv = model.predict(comm, t_eval)\n",
    "    cd_pred = comm_pred[:, cd_ind]\n",
    "        \n",
    "    # objective is to minimize CD growth\n",
    "    return cd_pred[-1]"
   ]
  },
  {
   "cell_type": "code",
   "execution_count": 7,
   "id": "49a146ad",
   "metadata": {},
   "outputs": [],
   "source": [
    "# compute objectives for every initial condition \n",
    "objectives = np.array([objective(x, t_eval) for x in X])"
   ]
  },
  {
   "cell_type": "code",
   "execution_count": 8,
   "id": "0c01caff",
   "metadata": {},
   "outputs": [],
   "source": [
    "def comm_name(present_species):\n",
    "    c_name = \"\"\n",
    "    for p_s in present_species:\n",
    "        if p_s != 'CD':\n",
    "            c_name += p_s + \"-\"\n",
    "    return c_name[:-1]"
   ]
  },
  {
   "cell_type": "code",
   "execution_count": 9,
   "id": "8e10bb0a",
   "metadata": {
    "scrolled": true
   },
   "outputs": [
    {
     "data": {
      "image/png": "[encoded data removed]",
      "text/plain": [
       "<Figure size 640x480 with 1 Axes>"
      ]
     },
     "metadata": {},
     "output_type": "display_data"
    }
   ],
   "source": [
    "# compute strain specific objectives\n",
    "mono_pred, mono_stdv = model.predict(X[0], t_eval)\n",
    "strain_pred, strain_stdv = model.predict(X[np.argmin(objectives)], t_eval)\n",
    "\n",
    "plt.plot(t_eval, mono_pred[:, cd_ind], label=f\"CD in monoculture\", color='k', linestyle='-')\n",
    "#plt.fill_between(t_eval, full_pred[:,4]-full_stdv[:,4], full_pred[:,4]+full_stdv[:,4], color='k', alpha=0.2)\n",
    "\n",
    "c_name = comm_name(sp_names[X[np.argmax(objectives)] > 0])\n",
    "plt.plot(t_eval, strain_pred[:, cd_ind], label=f\"CD in optimized community:\\n{c_name}\", color='k', linestyle='--')\n",
    "#plt.fill_between(t_eval, strain_pred[:,4]-strain_stdv[:,4], strain_pred[:,4]+strain_stdv[:,4], color='k', alpha=0.2)\n",
    "\n",
    "#plt.plot(t_eval, obj_pred[:,4], label=f\"Robust\", color='k', linestyle='-')\n",
    "#plt.fill_between(t_eval, obj_pred[:,4]-obj_stdv[:,4], obj_pred[:,4]+obj_stdv[:,4], color='k', alpha=0.2)\n",
    "\n",
    "plt.legend()\n",
    "# plt.ylim([0, .3])\n",
    "\n",
    "plt.xlabel(\"Time (hr)\", fontsize=16)\n",
    "plt.ylabel(\"Abundance (OD)\", fontsize=16)\n",
    "    \n",
    "plt.tight_layout()\n",
    "# plt.savefig(\"cd_inhibition.pdf\", dpi=300)\n",
    "plt.show()"
   ]
  },
  {
   "cell_type": "code",
   "execution_count": 10,
   "id": "1daf828a",
   "metadata": {},
   "outputs": [],
   "source": [
    "# highlight \n",
    "# C1: CH-CS-DP + CD"
   ]
  },
  {
   "cell_type": "code",
   "execution_count": 11,
   "id": "1c9f7f65",
   "metadata": {},
   "outputs": [
    {
     "data": {
      "text/plain": [
       "array(['CA', 'BT', 'BU', 'CS', 'CD', 'DP', 'CH', 'BV'], dtype=object)"
      ]
     },
     "execution_count": 11,
     "metadata": {},
     "output_type": "execute_result"
    }
   ],
   "source": [
    "sp_names"
   ]
  },
  {
   "cell_type": "code",
   "execution_count": 12,
   "id": "0322ccaf",
   "metadata": {},
   "outputs": [
    {
     "data": {
      "text/plain": [
       "array(['CS', 'CD', 'DP', 'CH'], dtype=object)"
      ]
     },
     "execution_count": 12,
     "metadata": {},
     "output_type": "execute_result"
    }
   ],
   "source": [
    "comm1_inds = [3, 4, 5, 6]\n",
    "species[comm1_inds]"
   ]
  },
  {
   "cell_type": "code",
   "execution_count": 13,
   "id": "88fb8a0f",
   "metadata": {},
   "outputs": [],
   "source": [
    "comm1_ind = np.argmax(np.sum(X[:, comm1_inds] > 0, 1))"
   ]
  },
  {
   "cell_type": "code",
   "execution_count": 14,
   "id": "408633da",
   "metadata": {},
   "outputs": [
    {
     "data": {
      "text/plain": [
       "0.18491124"
      ]
     },
     "execution_count": 14,
     "metadata": {},
     "output_type": "execute_result"
    }
   ],
   "source": [
    "objectives[comm1_ind]"
   ]
  },
  {
   "cell_type": "code",
   "execution_count": 15,
   "id": "fe8f6793",
   "metadata": {},
   "outputs": [
    {
     "data": {
      "text/plain": [
       "array(['CA', 'BU', 'CD', 'DP'], dtype=object)"
      ]
     },
     "execution_count": 15,
     "metadata": {},
     "output_type": "execute_result"
    }
   ],
   "source": [
    "# C2: BU-CA-DP + CD\n",
    "comm2_inds = [0, 2, 4, 5]\n",
    "species[comm2_inds]"
   ]
  },
  {
   "cell_type": "code",
   "execution_count": 16,
   "id": "fc0b5455",
   "metadata": {},
   "outputs": [],
   "source": [
    "comm2_ind = np.argmax(np.sum(X[:, comm2_inds] > 0, 1))"
   ]
  },
  {
   "cell_type": "code",
   "execution_count": 17,
   "id": "7c09835a",
   "metadata": {},
   "outputs": [
    {
     "data": {
      "text/plain": [
       "0.27955365"
      ]
     },
     "execution_count": 17,
     "metadata": {},
     "output_type": "execute_result"
    }
   ],
   "source": [
    "objectives[comm2_ind]"
   ]
  },
  {
   "cell_type": "code",
   "execution_count": 18,
   "id": "6870c431",
   "metadata": {},
   "outputs": [],
   "source": [
    "comm_names = [\"CD+\"+comm_name(sp_names[x0 > 0]) for x0 in X]\n",
    "richness = np.sum(X > 0, 1)\n",
    "df_opt = pd.DataFrame()\n",
    "df_opt[\"Comms\"] = comm_names\n",
    "df_opt[\"Richness\"] = richness\n",
    "df_opt[\"CD OD\"] = objectives\n",
    "df_opt.to_csv(\"opt/df_gLV_MS001_growth.csv\", index=False)"
   ]
  },
  {
   "cell_type": "code",
   "execution_count": 19,
   "id": "0ff8b682",
   "metadata": {},
   "outputs": [
    {
     "data": {
      "image/png": "[encoded data removed]",
      "text/plain": [
       "<Figure size 640x480 with 1 Axes>"
      ]
     },
     "metadata": {},
     "output_type": "display_data"
    }
   ],
   "source": [
    "plt.scatter(np.sum(X > 0, 1), objectives)\n",
    "plt.scatter(np.sum(X[comm1_ind]>0), objectives[comm1_ind], edgecolor='k', s=70, label=\"CH,CS,DP\")\n",
    "plt.scatter(np.sum(X[comm2_ind]>0), objectives[comm2_ind], edgecolor='k', s=70, label=\"BU,CA,DP\")\n",
    "\n",
    "plt.legend(loc='center left')\n",
    "plt.xlabel(\"Number of species in community\")\n",
    "plt.ylabel(\"Predicted 24hr CD OD\")\n",
    "# plt.savefig(\"figures/CDreduction_vs_richness_DSM.pdf\", dpi=300)\n",
    "plt.show()"
   ]
  }
 ],
 "metadata": {
  "kernelspec": {
   "display_name": "Python 3 (ipykernel)",
   "language": "python",
   "name": "python3"
  },
  "language_info": {
   "codemirror_mode": {
    "name": "ipython",
    "version": 3
   },
   "file_extension": ".py",
   "mimetype": "text/x-python",
   "name": "python",
   "nbconvert_exporter": "python",
   "pygments_lexer": "ipython3",
   "version": "3.11.3"
  }
 },
 "nbformat": 4,
 "nbformat_minor": 5
}
