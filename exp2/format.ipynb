{
 "cells": [
  {
   "cell_type": "code",
   "execution_count": 1,
   "id": "b9098143",
   "metadata": {},
   "outputs": [],
   "source": [
    "import pandas as pd\n",
    "import numpy as np\n",
    "import os "
   ]
  },
  {
   "cell_type": "code",
   "execution_count": 2,
   "id": "6d9abd80",
   "metadata": {},
   "outputs": [],
   "source": [
    "def one_hot_encoder(p_vals):\n",
    "    categories = np.unique(p_vals)\n",
    "    categories\n",
    "\n",
    "    hot_p_vals = np.zeros([len(p_vals), len(categories)])\n",
    "    for i, p_val in enumerate(p_vals):\n",
    "        hot_p_vals[i, np.in1d(categories, p_val)] = 1.\n",
    "        \n",
    "    return hot_p_vals"
   ]
  },
  {
   "cell_type": "code",
   "execution_count": 3,
   "id": "9186ff8d",
   "metadata": {},
   "outputs": [],
   "source": [
    "# import file names\n",
    "files = os.listdir(\"data/\")\n",
    "files = [f for f in files if \"processed\" not in f]\n",
    "files\n",
    "\n",
    "for file in files:\n",
    "    # import df \n",
    "    df = pd.read_csv(\"data/\"+file)\n",
    "\n",
    "    # remove extra columns \n",
    "    save_columns = [\"Treatments\", \"Time\", \"BT\", \"BV\", \"CD\", \"CH\", \"BU\", \"CS\", \"CA\", \"DP\"]\n",
    "    df_save = df.copy()[save_columns]\n",
    "    \n",
    "    # rename treatment to include passage info \n",
    "    Treatments = [t + \"_\" + str(p) for t, p in zip(df.Treatments.values, df.Passage.values)]\n",
    "    df_save[\"Treatments\"] = Treatments \n",
    "    \n",
    "    # one hot encode passage number \n",
    "    hot_passages = one_hot_encoder(df['Passage'].values)\n",
    "    df_save[[\"P1\", \"P2\", \"P3\"]] = hot_passages\n",
    "    \n",
    "    # save processed df\n",
    "    fname = \"data/\" + file.split(\".\")[0] + \"_processed.csv\"\n",
    "    df_save.sort_values(by=[\"Treatments\", \"Time\"], inplace=True)\n",
    "    df_save.to_csv(fname, index=False)"
   ]
  }
 ],
 "metadata": {
  "kernelspec": {
   "display_name": "Python 3 (ipykernel)",
   "language": "python",
   "name": "python3"
  },
  "language_info": {
   "codemirror_mode": {
    "name": "ipython",
    "version": 3
   },
   "file_extension": ".py",
   "mimetype": "text/x-python",
   "name": "python",
   "nbconvert_exporter": "python",
   "pygments_lexer": "ipython3",
   "version": "3.9.7"
  }
 },
 "nbformat": 4,
 "nbformat_minor": 5
}
