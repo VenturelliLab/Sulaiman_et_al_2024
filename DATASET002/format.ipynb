{
 "cells": [
  {
   "cell_type": "code",
   "execution_count": 1,
   "id": "b9098143",
   "metadata": {},
   "outputs": [],
   "source": [
    "import pandas as pd\n",
    "import numpy as np\n",
    "import os "
   ]
  },
  {
   "cell_type": "code",
   "execution_count": 2,
   "id": "9186ff8d",
   "metadata": {},
   "outputs": [],
   "source": [
    "# import file names\n",
    "files = os.listdir(\"data/\")\n",
    "files = [f for f in files if \"processed\" not in f]\n",
    "files\n",
    "\n",
    "for file in files:\n",
    "    # import df \n",
    "    df = pd.read_csv(\"data/\"+file)\n",
    "\n",
    "    # remove extra columns \n",
    "    save_columns = [\"Treatments\", \"Time\", \"BT\", \"BV\", \"CD\", \"CH\", \"BU\", \"CS\", \"CA\", \"DP\"]\n",
    "    df_save = df.copy()[save_columns]\n",
    "    \n",
    "    # rename treatment to include passage info \n",
    "    Treatments = [t + \"_\" + str(p) for t, p in zip(df.Treatments.values, df.Passage.values)]\n",
    "    df_save[\"Treatments\"] = Treatments \n",
    "    \n",
    "    # only keep first passage  \n",
    "#     passage_num = df['Passage'].values\n",
    "#     passage_inds = np.in1d(passage_num, 0)\n",
    "#     df_save = df_save.iloc[passage_inds].copy()\n",
    "    \n",
    "    # discard timepoints after 24 hours \n",
    "    time_inds = df_save.Time.values <= 24. \n",
    "    df_save = df_save.iloc[time_inds].copy()\n",
    "    \n",
    "    # save processed df\n",
    "    fname = \"data/\" + file.split(\".\")[0] + \"passage_processed.csv\"\n",
    "    df_save.sort_values(by=[\"Treatments\", \"Time\"], inplace=True)\n",
    "    df_save.to_csv(fname, index=False)"
   ]
  },
  {
   "cell_type": "code",
   "execution_count": 3,
   "id": "44d07883",
   "metadata": {},
   "outputs": [
    {
     "data": {
      "text/plain": [
       "'data/EXP0019_MS008passage_processed.csv'"
      ]
     },
     "execution_count": 3,
     "metadata": {},
     "output_type": "execute_result"
    }
   ],
   "source": [
    "fname"
   ]
  }
 ],
 "metadata": {
  "kernelspec": {
   "display_name": "Python 3 (ipykernel)",
   "language": "python",
   "name": "python3"
  },
  "language_info": {
   "codemirror_mode": {
    "name": "ipython",
    "version": 3
   },
   "file_extension": ".py",
   "mimetype": "text/x-python",
   "name": "python",
   "nbconvert_exporter": "python",
   "pygments_lexer": "ipython3",
   "version": "3.9.13"
  }
 },
 "nbformat": 4,
 "nbformat_minor": 5
}
